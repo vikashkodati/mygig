{
  "nbformat": 4,
  "nbformat_minor": 0,
  "metadata": {
    "colab": {
      "provenance": [],
      "include_colab_link": true
    },
    "kernelspec": {
      "name": "python3",
      "display_name": "Python 3"
    },
    "language_info": {
      "name": "python"
    }
  },
  "cells": [
    {
      "cell_type": "markdown",
      "metadata": {
        "id": "view-in-github",
        "colab_type": "text"
      },
      "source": [
        "<a href=\"https://colab.research.google.com/github/vikashkodati/mygig/blob/main/Flash_Flood_Detection_TwelveLabs.ipynb\" target=\"_parent\"><img src=\"https://colab.research.google.com/assets/colab-badge.svg\" alt=\"Open In Colab\"/></a>"
      ]
    },
    {
      "cell_type": "markdown",
      "source": [
        "# 🌊 Flash Flood Detection in Arizona Using VideoDB RTStream\n",
        "\n",
        "[![Open In Colab](https://colab.research.google.com/assets/colab-badge.svg)](https://colab.research.google.com/github/video-db/videodb-cookbook/blob/main/real_time_streaming/Flash_Flood_Detection.ipynb)\n",
        "\n",
        "## 📖 Storytime: Why This Matters\n",
        "\n",
        "The stunning Arizona deserts, known for their dry riverbeds and scenic beauty, hide a deadly risk.  \n",
        "During the summer monsoon, sudden torrential rains can trigger **flash floods** in these seemingly harmless dry zones — with little or no warning.\n",
        "\n",
        "Conventional alert systems relying on rain gauges or weather satellites often fail to deliver timely, location-specific warnings. By the time a danger alert is sent, it might already be too late.\n",
        "\n",
        "**But we have a smarter way.**\n",
        "\n",
        "With **VideoDB RTStream**, we can install real-time cameras near flood-prone areas and let AI continuously monitor the visuals.  \n",
        "As soon as the AI detects signs of a flash flood — like a sudden surge of water through dry land — it can instantly send alerts, giving local authorities and tourists precious moments to act.\n",
        "\n",
        "---\n",
        "\n",
        "## 🚀 What You’ll Build in This Notebook\n",
        "\n",
        "In this notebook, we’ll create a real-time flash flood detection system using **VideoDB RTStream**.  \n",
        "By the end of this demo, you’ll learn how to:\n",
        "- Connect a live video stream to VideoDB\n",
        "- Use AI to continuously analyze scenes for signs of a flash flood\n",
        "- Detect a **flash flood event**\n",
        "- Trigger a real-time alert when detected\n",
        "\n",
        "Let’s build it together!\n",
        "\n"
      ],
      "metadata": {
        "id": "zpV7M-CLQJit"
      }
    },
    {
      "cell_type": "markdown",
      "source": [
        "---\n",
        "\n",
        "## 📦 Step 1: Install Dependencies\n",
        "\n",
        "Before setting up our AI-powered flood monitor, let’s install the required VideoDB SDK."
      ],
      "metadata": {
        "id": "f5lY3gziQNRe"
      }
    },
    {
      "cell_type": "code",
      "source": [
        "!pip install -q videodb"
      ],
      "metadata": {
        "id": "cD643idwQKJI",
        "colab": {
          "base_uri": "https://localhost:8080/"
        },
        "outputId": "74e102e5-d7a0-44af-e883-8743f0e2d08f"
      },
      "execution_count": null,
      "outputs": [
        {
          "output_type": "stream",
          "name": "stdout",
          "text": [
            "  Preparing metadata (setup.py) ... \u001b[?25l\u001b[?25hdone\n",
            "  Building wheel for videodb (setup.py) ... \u001b[?25l\u001b[?25hdone\n"
          ]
        }
      ]
    },
    {
      "cell_type": "markdown",
      "source": [
        "---\n",
        "## 📦 Step 2: Connect to VideoDB\n",
        "\n",
        "Let's connect to VideoDB's API using your credentials to prepare for stream monitoring.\n",
        "\n",
        "Please enter your `VIDEO_DB_API_KEY` in the input box that appears below after you run this cell.\n",
        "\n",
        "Your input will be masked.\n"
      ],
      "metadata": {
        "id": "JB_mg1kxQTcF"
      }
    },
    {
      "cell_type": "code",
      "source": [
        "import videodb\n",
        "import os\n",
        "from getpass import getpass\n",
        "\n",
        "api_key = getpass(\"Please enter your VideoDB API Key: \")\n",
        "\n",
        "os.environ[\"VIDEO_DB_API_KEY\"] = api_key\n",
        "\n",
        "conn = videodb.connect()\n",
        "coll = conn.get_collection()\n",
        "\n",
        "print(\"Connected to VideoDB securely!\")"
      ],
      "metadata": {
        "id": "ddqIQZteQWPj",
        "colab": {
          "base_uri": "https://localhost:8080/"
        },
        "outputId": "1f10e458-a8ca-42fe-d4b0-928f742acb0c"
      },
      "execution_count": null,
      "outputs": [
        {
          "output_type": "stream",
          "name": "stdout",
          "text": [
            "Please enter your VideoDB API Key: ··········\n",
            "Connected to VideoDB securely!\n"
          ]
        }
      ]
    },
    {
      "cell_type": "markdown",
      "source": [
        "---\n",
        "\n",
        "## 📦 Step 3: Connect to the Arizona Flood RTSP Stream\n",
        "\n",
        "Connect to the live camera stream monitoring a flood-prone desert area.\n",
        "\n",
        "In this demo, the stream is running at `rtsp://samples.rts.videodb.io:8554/floods`."
      ],
      "metadata": {
        "id": "GPfbBpinQbW0"
      }
    },
    {
      "cell_type": "code",
      "source": [
        "rtsp_url = \"rtsp://samples.rts.videodb.io:8554/floods\"\n",
        "flood_stream = coll.connect_rtstream(\n",
        "    name=\"Arizona Flood Stream\",\n",
        "    url=rtsp_url,\n",
        ")\n",
        "print(flood_stream)\n"
      ],
      "metadata": {
        "id": "A7_zI06cQhwr",
        "colab": {
          "base_uri": "https://localhost:8080/"
        },
        "outputId": "4920624a-ceb4-404a-e884-b89a8e294dc4"
      },
      "execution_count": null,
      "outputs": [
        {
          "output_type": "stream",
          "name": "stdout",
          "text": [
            "RTStream(id=rts-01984caa-e5e5-7680-b1c4-79e89a7a34af, name=Arizona Flood Stream, collection_id=None, created_at=None, sample_rate=30, status=connected)\n"
          ]
        }
      ]
    },
    {
      "cell_type": "markdown",
      "source": [
        "#### Let us list all the rtstreams in our collection."
      ],
      "metadata": {
        "id": "bdxspdrXsl9R"
      }
    },
    {
      "cell_type": "code",
      "source": [
        "def list_rtstreams():\n",
        "    for rtstream in coll.list_rtstreams():\n",
        "        print(f\"\"\"RTStream:\n",
        "        ID            : {rtstream.id}\n",
        "        Name          : {rtstream.name}\n",
        "        Collection ID : {rtstream.collection_id}\n",
        "        Created At    : {rtstream.created_at}\n",
        "        Sample Rate   : {rtstream.sample_rate}\n",
        "        Status        : {rtstream.status}\n",
        "        \"\"\")\n",
        "        print(\"-\" * 80)\n",
        "\n",
        "list_rtstreams()"
      ],
      "metadata": {
        "colab": {
          "base_uri": "https://localhost:8080/"
        },
        "id": "gxtKJcrssmzJ",
        "outputId": "b94ccb52-66ad-4556-d416-a3d4bf1779e4"
      },
      "execution_count": null,
      "outputs": [
        {
          "output_type": "stream",
          "name": "stdout",
          "text": [
            "RTStream:\n",
            "        ID            : rts-01984caa-e5e5-7680-b1c4-79e89a7a34af\n",
            "        Name          : Arizona Flood Stream\n",
            "        Collection ID : c-8ef029d5-a926-4859-9cc1-818549b3cb16\n",
            "        Created At    : 2025-07-27T16:15:25.157758\n",
            "        Sample Rate   : 30\n",
            "        Status        : connected\n",
            "        \n",
            "--------------------------------------------------------------------------------\n",
            "RTStream:\n",
            "        ID            : rts-01980ecc-20d5-70b2-99c3-a0a88b8cc2f2\n",
            "        Name          : Baby Monitoring Stream\n",
            "        Collection ID : c-8ef029d5-a926-4859-9cc1-818549b3cb16\n",
            "        Created At    : 2025-07-15T15:55:15.541778\n",
            "        Sample Rate   : 30\n",
            "        Status        : stopped\n",
            "        \n",
            "--------------------------------------------------------------------------------\n",
            "RTStream:\n",
            "        ID            : rts-01980ecb-d05b-7272-93a5-e016d14d2483\n",
            "        Name          : Baby Monitoring Stream\n",
            "        Collection ID : c-8ef029d5-a926-4859-9cc1-818549b3cb16\n",
            "        Created At    : 2025-07-15T15:54:54.939230\n",
            "        Sample Rate   : 30\n",
            "        Status        : stopped\n",
            "        \n",
            "--------------------------------------------------------------------------------\n",
            "RTStream:\n",
            "        ID            : rts-01980ec0-90f5-7532-a728-aac362e9c490\n",
            "        Name          : Baby Monitoring Stream\n",
            "        Collection ID : c-8ef029d5-a926-4859-9cc1-818549b3cb16\n",
            "        Created At    : 2025-07-15T15:42:37.813103\n",
            "        Sample Rate   : 30\n",
            "        Status        : stopped\n",
            "        \n",
            "--------------------------------------------------------------------------------\n",
            "RTStream:\n",
            "        ID            : rts-0197a858-4e0a-71c2-a5b3-8c613219b0ac\n",
            "        Name          : Intruder\n",
            "        Collection ID : c-8ef029d5-a926-4859-9cc1-818549b3cb16\n",
            "        Created At    : 2025-06-25T18:27:28.906709\n",
            "        Sample Rate   : 30\n",
            "        Status        : stopped\n",
            "        \n",
            "--------------------------------------------------------------------------------\n"
          ]
        }
      ]
    },
    {
      "cell_type": "markdown",
      "source": [
        "\n",
        "#### If you have already connected the stream, run the below cell with the **rtstream id** to reconnect."
      ],
      "metadata": {
        "id": "DMpqfcWds2CY"
      }
    },
    {
      "cell_type": "code",
      "source": [
        "flood_stream = coll.get_rtstream(\"rts-01984caa-e5e5-7680-b1c4-79e89a7a34af\")"
      ],
      "metadata": {
        "id": "dPPG2hsqs1Vv"
      },
      "execution_count": null,
      "outputs": []
    },
    {
      "cell_type": "code",
      "source": [
        "# To stop the stream\n",
        "flood_stream.stop()"
      ],
      "metadata": {
        "id": "NT0bnlhOs-pF"
      },
      "execution_count": null,
      "outputs": []
    },
    {
      "cell_type": "code",
      "source": [
        "# To start the stream\n",
        "flood_stream.start()"
      ],
      "metadata": {
        "id": "NmiNzKcfs_Na"
      },
      "execution_count": null,
      "outputs": []
    },
    {
      "cell_type": "markdown",
      "source": [
        "---\n",
        "### 👀 Let's have a look at the riverbed"
      ],
      "metadata": {
        "id": "KO8opDorQnpc"
      }
    },
    {
      "cell_type": "markdown",
      "source": [
        "\n",
        "#### 📺 Helper Function: Display Video Stream\n",
        "\n",
        "This cell contains a small utility function to help visualize the video streams with helpful information. You don't need to modify this code."
      ],
      "metadata": {
        "id": "z0BHpOB3tJgw"
      }
    },
    {
      "cell_type": "code",
      "source": [
        "# To display the stream with relevant information\n",
        "\n",
        "from IPython.display import HTML\n",
        "import re\n",
        "from datetime import datetime\n",
        "from videodb import play_stream\n",
        "\n",
        "def display_stream(video_url, video_name=\"🎥 Camera Feed\"):\n",
        "\n",
        "    match = re.search(r'/(\\d{16})-(\\d{16})\\.m3u8', video_url)\n",
        "    if match:\n",
        "        start_ts = int(match.group(1)) / 1e6\n",
        "        end_ts = int(match.group(2)) / 1e6\n",
        "        start_time = datetime.utcfromtimestamp(start_ts).strftime('%Y-%m-%d %H:%M:%S')\n",
        "        end_time = datetime.utcfromtimestamp(end_ts).strftime('%Y-%m-%d %H:%M:%S')\n",
        "        time_range = f\"{start_time} → {end_time} UTC\"\n",
        "    else:\n",
        "        time_range = \"Time Unknown\"\n",
        "\n",
        "    video_player_html = play_stream(video_url)\n",
        "\n",
        "    return HTML(f\"\"\"\n",
        "    <div style=\"position:relative;width:640px;\">\n",
        "      {video_player_html._repr_html_() if hasattr(video_player_html, '_repr_html_') else video_player_html}\n",
        "      <div style=\"position:absolute;top:10px;left:10px;background:rgba(0,0,0,0.6);color:#fff;padding:6px 12px;border-radius:4px;font-size:13px;font-family:sans-serif;\">\n",
        "        <strong>{video_name}</strong><br>{time_range}\n",
        "      </div>\n",
        "    </div>\n",
        "    \"\"\")"
      ],
      "metadata": {
        "id": "PpSSzPhMQqOE"
      },
      "execution_count": null,
      "outputs": []
    },
    {
      "cell_type": "markdown",
      "source": [
        "\n",
        "#### 🔗 Get & Display Recent Stream\n",
        "\n",
        "This cell uses the helper function above to fetch and display the last few minutes of the stream."
      ],
      "metadata": {
        "id": "Kg5KSFhhtOQa"
      }
    },
    {
      "cell_type": "code",
      "source": [
        "# To get last few minutes stream link\n",
        "import time\n",
        "\n",
        "def fetch_stream(rtstream):\n",
        "\n",
        "    now = int(time.time())\n",
        "    start = int(now - (5 * 60))\n",
        "    stream_url = rtstream.generate_stream(start, now)\n",
        "    return stream_url\n",
        "\n",
        "video_url = fetch_stream(flood_stream)\n",
        "\n",
        "video_name = \"🌊 Arizona Desert · Flash Flood Detection\"\n",
        "display_stream(video_url , video_name)"
      ],
      "metadata": {
        "id": "g5W0GEc_Qoo7",
        "colab": {
          "base_uri": "https://localhost:8080/",
          "height": 422
        },
        "outputId": "65ae784e-58d9-416d-b0fc-8546997a2ad9"
      },
      "execution_count": null,
      "outputs": [
        {
          "output_type": "execute_result",
          "data": {
            "text/plain": [
              "<IPython.core.display.HTML object>"
            ],
            "text/html": [
              "\n",
              "    <div style=\"position:relative;width:640px;\">\n",
              "      \n",
              "        <iframe\n",
              "            width=\"800\"\n",
              "            height=\"400\"\n",
              "            src=\"https://console.videodb.io/player?url=https://rt.stream.videodb.io/manifests/rts-019719b2-0c84-7a71-a037-311855a8d160/1748515780000000-1748516080000000.m3u8\"\n",
              "            frameborder=\"0\"\n",
              "            allowfullscreen\n",
              "            \n",
              "        ></iframe>\n",
              "        \n",
              "      <div style=\"position:absolute;top:10px;left:10px;background:rgba(0,0,0,0.6);color:#fff;padding:6px 12px;border-radius:4px;font-size:13px;font-family:sans-serif;\">\n",
              "        <strong>🌊 Arizona Desert · Flash Flood Detection</strong><br>2025-05-29 10:49:40 → 2025-05-29 10:54:40 UTC\n",
              "      </div>\n",
              "    </div>\n",
              "    "
            ]
          },
          "metadata": {},
          "execution_count": 8
        }
      ]
    },
    {
      "cell_type": "markdown",
      "source": [
        "\n",
        "---\n",
        "\n",
        "## 📦 Step 4: Index Scenes and Detect Flash Floods\n",
        "\n",
        "We’ll create a real-time scene index that periodically analyzes video frames and generates natural language descriptions of what’s happening in the stream.\n",
        "\n",
        "The AI will look for sudden visual cues of water flooding dry land and describe them.\n"
      ],
      "metadata": {
        "id": "eVIEAJFKQvqW"
      }
    },
    {
      "cell_type": "code",
      "source": [
        "from videodb import SceneExtractionType\n",
        "\n",
        "flood_scene_index = flood_stream.index_scenes(\n",
        "    extraction_type=SceneExtractionType.time_based,\n",
        "    extraction_config={\n",
        "        \"time\": 10,\n",
        "        \"frame_count\": 6,\n",
        "    },\n",
        "    prompt=\"Monitor the dry riverbed and surrounding area. If moving water is detected across the land, identify it as a flash flood and describe the scene.\",\n",
        "    name=\"Flash_Flood_Detection_Index\",\n",
        "    model_name=\"twelvelabs-pegasus-1.2\"\n",
        ")\n",
        "flood_index_id = flood_scene_index.rtstream_index_id\n",
        "print(\"Scene Index ID:\", flood_index_id)\n"
      ],
      "metadata": {
        "id": "CMU9WMlLQwvn",
        "colab": {
          "base_uri": "https://localhost:8080/"
        },
        "outputId": "f97221e8-a17e-4679-f980-b94b086e920f"
      },
      "execution_count": null,
      "outputs": [
        {
          "output_type": "stream",
          "name": "stdout",
          "text": [
            "Scene Index ID: 2dd3eed34f70aeda\n"
          ]
        }
      ]
    },
    {
      "cell_type": "markdown",
      "source": [
        "#### Let us list the scene indexes created on our rtstream."
      ],
      "metadata": {
        "id": "KjDNDgQAt1IW"
      }
    },
    {
      "cell_type": "code",
      "source": [
        "def list_rtstream_indexes(rtstream):\n",
        "    # List live stream indexes\n",
        "    rtstream_indexes = rtstream.list_scene_indexes()\n",
        "    for rtstream_index in rtstream_indexes:\n",
        "        if rtstream_index.status != \"stopped\":\n",
        "          print(f\"\"\"RTStreamSceneIndex:\n",
        "              Index ID       : {rtstream_index.rtstream_index_id}\n",
        "              RTStream ID    : {rtstream_index.rtstream_id}\n",
        "              Name           : {rtstream_index.name}\n",
        "              Status         : {rtstream_index.status}\n",
        "              Config         : {rtstream_index.extraction_config}\n",
        "              Prompt         : {rtstream_index.prompt}\n",
        "          \"\"\")\n",
        "          print(\"-\" * 80)\n",
        "\n",
        "list_rtstream_indexes(flood_stream)"
      ],
      "metadata": {
        "colab": {
          "base_uri": "https://localhost:8080/"
        },
        "id": "Mcies-gct12A",
        "outputId": "964fcd77-a501-4268-ac1d-1b8f1279b063"
      },
      "execution_count": null,
      "outputs": [
        {
          "output_type": "stream",
          "name": "stdout",
          "text": [
            "RTStreamSceneIndex:\n",
            "              Index ID       : 2dd3eed34f70aeda\n",
            "              RTStream ID    : rts-01984caa-e5e5-7680-b1c4-79e89a7a34af\n",
            "              Name           : Flash_Flood_Detection_Index\n",
            "              Status         : running\n",
            "              Config         : {'frame_count': '6', 'time': '10'}\n",
            "              Prompt         : Monitor the dry riverbed and surrounding area. If moving water is detected across the land, identify it as a flash flood and describe the scene.\n",
            "          \n",
            "--------------------------------------------------------------------------------\n"
          ]
        }
      ]
    },
    {
      "cell_type": "markdown",
      "source": [
        "\n",
        "#### If you have already created a scene index, run the below cell with your **scene index id** to reconnect."
      ],
      "metadata": {
        "id": "abtAiqYRt8tm"
      }
    },
    {
      "cell_type": "code",
      "source": [
        "flood_index_id = \"2dd3eed34f70aeda\"\n",
        "flood_scene_index = flood_stream.get_scene_index(flood_index_id)"
      ],
      "metadata": {
        "id": "SiabmNgrt9al"
      },
      "execution_count": null,
      "outputs": []
    },
    {
      "cell_type": "code",
      "source": [
        "# To stop the index\n",
        "flood_scene_index.stop()"
      ],
      "metadata": {
        "id": "oTJX-adPt9vE"
      },
      "execution_count": null,
      "outputs": []
    },
    {
      "cell_type": "code",
      "source": [
        "# To start the index\n",
        "flood_scene_index.start()"
      ],
      "metadata": {
        "id": "fj8NNH7nt-B9"
      },
      "execution_count": null,
      "outputs": []
    },
    {
      "cell_type": "markdown",
      "source": [
        "---\n",
        "### Let us see the result of the scene indexing"
      ],
      "metadata": {
        "id": "yRZmI0IvQ0FF"
      }
    },
    {
      "cell_type": "code",
      "source": [
        "import time\n",
        "from datetime import datetime\n",
        "from zoneinfo import ZoneInfo\n",
        "\n",
        "def _convert_to_ist(timestamp: float) -> str:\n",
        "    \"\"\"Convert UTC timestamp to IST (Asia/Kolkata) datetime string.\"\"\"\n",
        "    return (\n",
        "        datetime.fromtimestamp(timestamp)\n",
        "        .astimezone(ZoneInfo(\"Asia/Kolkata\"))\n",
        "        .strftime(\"%Y-%m-%d %H:%M:%S\")\n",
        "    )\n",
        "\n",
        "def get_scenes(rtstream, index_id):\n",
        "    # Print indexed scenes\n",
        "    rtstream_scene_index = rtstream.get_scene_index(index_id)\n",
        "    scenes = rtstream_scene_index.get_scenes(page_size=5)\n",
        "    # print(scenes[\"scenes\"][:2])\n",
        "    if scenes:\n",
        "        for scene in scenes.get(\"scenes\"):\n",
        "            start = _convert_to_ist(scene[\"start\"])\n",
        "            end = _convert_to_ist(scene[\"end\"])\n",
        "            description = scene[\"description\"]\n",
        "            print(f\"{start}-{end}: {description}\")\n",
        "            print(\"-\" * 80)\n",
        "    else:\n",
        "        print(\"Scenes not found for given index.\")\n",
        "\n",
        "get_scenes(flood_stream , flood_index_id)"
      ],
      "metadata": {
        "id": "XUa08hPnQ0Zw",
        "colab": {
          "base_uri": "https://localhost:8080/"
        },
        "outputId": "aad72005-68af-4655-dc29-9bae498307a5"
      },
      "execution_count": null,
      "outputs": [
        {
          "output_type": "stream",
          "name": "stdout",
          "text": [
            "2025-07-27 21:50:59-2025-07-27 21:51:10: Based on the visual evidence throughout the video, there is no indication of a flash flood. The riverbed appears dry, with water confined to a narrow stream flowing through reddish-brown rocks. The scene shows various sizes of holes and crevices within the rock surface, and the camera captures different sections of the canyon wall composed of layered red rock formations. The water below is dark blue-green and surrounded by steep canyon walls, but there is no moving water across the land that would suggest a flash flood.\n",
            "--------------------------------------------------------------------------------\n",
            "2025-07-27 21:50:48-2025-07-27 21:50:58: Throughout the video, a rocky stream flows steadily through a desert landscape under a cloudy sky. The water cascades over reddish-brown rocks and churns between large rock formations. There are no signs of a sudden increase in water flow or overflow that would indicate a flash flood. The scene depicts a consistent and steady flow of water, with no evidence of a flash flood occurring in the dry riverbed.\n",
            "--------------------------------------------------------------------------------\n",
            "2025-07-27 21:50:38-2025-07-27 21:50:47: Based on the visual evidence throughout the video, there is no indication of a flash flood. The riverbed remains dry, with water confined to a small stream flowing through the center of the frame. The scene shows a gradual increase in water within this stream, suggesting recent rainfall rather than a sudden flash flood. The surrounding area, including the reddish-brown rock formations and sparse vegetation, remains consistent without any changes that would suggest a flash flood event.\n",
            "--------------------------------------------------------------------------------\n",
            "2025-07-27 21:50:28-2025-07-27 21:50:37: Based on the visual evidence throughout the video, there is no indication of a flash flood occurring. The riverbed remains dry except for a small, steady stream of water flowing through the center. The environment appears calm with no signs of rapid water movement or flooding. Sparse vegetation is visible along the sides of the riverbed under a cloudy sky.\n",
            "--------------------------------------------------------------------------------\n"
          ]
        }
      ]
    },
    {
      "cell_type": "markdown",
      "source": [
        "---\n",
        "\n",
        "## 📦 Step 5: Define a Flash Flood Event\n",
        "\n",
        "Now, we’ll define an event type in the system to detect visual signs of a flash flood.\n"
      ],
      "metadata": {
        "id": "-kO4RguhRNbk"
      }
    },
    {
      "cell_type": "code",
      "source": [
        "flood_event_id = conn.create_event(\n",
        "    event_prompt=\"Detect sudden flash floods or water surges.\",\n",
        "    label=\"flash_flood\"\n",
        ")\n",
        "print(\"Event ID:\", flood_event_id)\n"
      ],
      "metadata": {
        "id": "VxTWmd_hROVQ",
        "colab": {
          "base_uri": "https://localhost:8080/"
        },
        "outputId": "6f36269f-6318-4852-a0f2-5b5f8f8c7d16"
      },
      "execution_count": null,
      "outputs": [
        {
          "output_type": "stream",
          "name": "stdout",
          "text": [
            "Event ID: 4641378d7a78f4d4\n"
          ]
        }
      ]
    },
    {
      "cell_type": "markdown",
      "source": [
        "---\n",
        "\n",
        "## 📦 Step 6: Attach an Alert to the Flash Flood Event\n",
        "\n",
        "Finally, we’ll link a real-time alert to this event, which will send a notification to our webhook the moment a flash flood is detected.\n"
      ],
      "metadata": {
        "id": "bRf6QOfrRQa2"
      }
    },
    {
      "cell_type": "code",
      "source": [
        "# Enter link to your webhook url where you want alerts to go. You can create one simply on pipedream.\n",
        "webhook_url = \"\"\n",
        "\n",
        "if webhook_url:\n",
        "  flood_alert_id = flood_scene_index.create_alert(\n",
        "      flood_event_id,\n",
        "      callback_url=webhook_url\n",
        "  )\n",
        "  print(\"Alert ID:\", flood_alert_id)\n",
        "else:\n",
        "  print(\"Error: Please provide Webhook URL. Alert cannot be created without it.\")"
      ],
      "metadata": {
        "id": "RftcmJUPRRmG",
        "colab": {
          "base_uri": "https://localhost:8080/"
        },
        "outputId": "7b254025-808d-4cb6-dd63-145d82308e94"
      },
      "execution_count": null,
      "outputs": [
        {
          "output_type": "stream",
          "name": "stdout",
          "text": [
            "Alert ID: a42af0f122a4adbe\n"
          ]
        }
      ]
    },
    {
      "cell_type": "markdown",
      "source": [
        "---\n",
        "\n",
        "## 📡 Example Alert Payload\n",
        "\n",
        "When a flash flood occurs, the system sent this alert to the webhook url:\n",
        "\n",
        "```json\n",
        "{\n",
        "  \"event_id\": \"event-7929a3ecc4624dbb\",\n",
        "  \"label\": \"flash_flood\",\n",
        "  \"confidence\": 0.95,\n",
        "  \"explanation\": \"The scene analysis clearly depicts a flash flood with rapidly moving water, debris, and a recent heavy rainfall event, aligning strongly with the alert context of detecting sudden flash floods or water surges.\",\n",
        "  \"timestamp\": \"2025-05-29T01:51:33.907778+00:00\",\n",
        "  \"start_time\": \"2025-05-29T07:20:34.289908+05:30\",\n",
        "  \"end_time\": \"2025-05-29T07:20:39.891267+05:30\",\n",
        "  \"stream_url\": \"https://rt.stream.videodb.io/manifests/rts-019719b2-0c84-7a71-a037-311855a8d160/1748483434000000-1748483440000000.m3u8\"\n",
        "}\n",
        "```"
      ],
      "metadata": {
        "id": "o_u8OYaWRTbP"
      }
    },
    {
      "cell_type": "code",
      "source": [
        "alert_stream_url = \"https://rt.stream.videodb.io/manifests/rts-019719b2-0c84-7a71-a037-311855a8d160/1748483434000000-1748483440000000.m3u8\"\n",
        "video_name = \"🌊 Arizona Desert · flash_flood\"\n",
        "\n",
        "display_stream(alert_stream_url, video_name)"
      ],
      "metadata": {
        "colab": {
          "base_uri": "https://localhost:8080/",
          "height": 422
        },
        "id": "tA8WGWzUvPQ1",
        "outputId": "bc690012-a143-4263-dfa9-a4f549d85756"
      },
      "execution_count": null,
      "outputs": [
        {
          "output_type": "execute_result",
          "data": {
            "text/plain": [
              "<IPython.core.display.HTML object>"
            ],
            "text/html": [
              "\n",
              "    <div style=\"position:relative;width:640px;\">\n",
              "      \n",
              "        <iframe\n",
              "            width=\"800\"\n",
              "            height=\"400\"\n",
              "            src=\"https://console.videodb.io/player?url=https://rt.stream.videodb.io/manifests/rts-019719b2-0c84-7a71-a037-311855a8d160/1748483434000000-1748483440000000.m3u8\"\n",
              "            frameborder=\"0\"\n",
              "            allowfullscreen\n",
              "            \n",
              "        ></iframe>\n",
              "        \n",
              "      <div style=\"position:absolute;top:10px;left:10px;background:rgba(0,0,0,0.6);color:#fff;padding:6px 12px;border-radius:4px;font-size:13px;font-family:sans-serif;\">\n",
              "        <strong>🌊 Arizona Desert · flash_flood</strong><br>2025-05-29 01:50:34 → 2025-05-29 01:50:40 UTC\n",
              "      </div>\n",
              "    </div>\n",
              "    "
            ]
          },
          "metadata": {},
          "execution_count": 6
        }
      ]
    },
    {
      "cell_type": "markdown",
      "source": [
        "#### Let us stop the flood index and proceed with the notebook to explore more possibilities."
      ],
      "metadata": {
        "id": "HuxU7xQTxBZ1"
      }
    },
    {
      "cell_type": "code",
      "source": [
        "flood_scene_index.stop()"
      ],
      "metadata": {
        "id": "KcknjmPPxAzw"
      },
      "execution_count": null,
      "outputs": []
    },
    {
      "cell_type": "markdown",
      "source": [
        "---\n",
        "-  Let us disable the alert now."
      ],
      "metadata": {
        "id": "9A29QLMZ9d44"
      }
    },
    {
      "cell_type": "code",
      "source": [
        "flood_scene_index.disable_alert(flood_alert_id)"
      ],
      "metadata": {
        "id": "xM6BA96q9kAZ"
      },
      "execution_count": null,
      "outputs": []
    },
    {
      "cell_type": "markdown",
      "source": [
        "- To enable the alert again"
      ],
      "metadata": {
        "id": "6e-d57Z49hY7"
      }
    },
    {
      "cell_type": "code",
      "source": [
        "flood_scene_index.enable_alert(flood_alert_id)"
      ],
      "metadata": {
        "id": "KC7tUVqw9kVT"
      },
      "execution_count": null,
      "outputs": []
    },
    {
      "cell_type": "markdown",
      "source": [
        "---\n",
        "### Let us set up some other alerts that are necessary\n",
        "1. Heavy rainfall, detecting heavy rainfall early can help us predict a flash flood occurence\n",
        "2. Detect the presence of a person stuck in the flash flood, for immediate rescue  \n",
        "\n",
        "We can start with creating a new scene index for monitoring rainfall or a person stuck in the place."
      ],
      "metadata": {
        "id": "KwcEwZygRYZs"
      }
    },
    {
      "cell_type": "code",
      "source": [
        "riverbed_monitoring_scene_index = flood_stream.index_scenes(\n",
        "    extraction_type=SceneExtractionType.time_based,\n",
        "    extraction_config={\n",
        "        \"time\": 15,\n",
        "        \"frame_count\": 10,\n",
        "    },\n",
        "    prompt=\"Monitor the dry riverbed and surrounding area. In case you detect heavy rainfall mention 'heavy rainfall detected'. If you detect a person stuck in the area during rainfall or flash flood mention 'person detected, rescue needed'\",\n",
        "    name=\"Riverbed_Monitoring_Index\",\n",
        "    model_name=\"twelvelabs-pegasus-1.2\"\n",
        ")\n",
        "riverbed_monitoring_index_id = riverbed_monitoring_scene_index.rtstream_index_id\n",
        "print(\"Scene Index ID:\", riverbed_monitoring_index_id)\n"
      ],
      "metadata": {
        "id": "GX8L7BkyRU-b",
        "colab": {
          "base_uri": "https://localhost:8080/"
        },
        "outputId": "ae7027de-4252-4270-996e-26177c05238e"
      },
      "execution_count": null,
      "outputs": [
        {
          "output_type": "stream",
          "name": "stdout",
          "text": [
            "Scene Index ID: 2882c52b94cc23cc\n"
          ]
        }
      ]
    },
    {
      "cell_type": "markdown",
      "source": [
        "#### Checking the list of indexes"
      ],
      "metadata": {
        "id": "914lMw6PxQDu"
      }
    },
    {
      "cell_type": "code",
      "source": [
        "list_rtstream_indexes(flood_stream)"
      ],
      "metadata": {
        "colab": {
          "base_uri": "https://localhost:8080/"
        },
        "id": "UXuau8gPxguR",
        "outputId": "f607b89a-3906-4208-b000-0605a6b4479d"
      },
      "execution_count": null,
      "outputs": [
        {
          "output_type": "stream",
          "name": "stdout",
          "text": [
            "RTStreamSceneIndex:\n",
            "              Index ID       : 2882c52b94cc23cc\n",
            "              RTStream ID    : rts-01984caa-e5e5-7680-b1c4-79e89a7a34af\n",
            "              Name           : Riverbed_Monitoring_Index\n",
            "              Status         : running\n",
            "              Config         : {'frame_count': '10', 'time': '15'}\n",
            "              Prompt         : Monitor the dry riverbed and surrounding area. In case you detect heavy rainfall mention 'heavy rainfall detected'. If you detect a person stuck in the area during rainfall or flash flood mention 'person detected, rescue needed'\n",
            "          \n",
            "--------------------------------------------------------------------------------\n",
            "RTStreamSceneIndex:\n",
            "              Index ID       : 2dd3eed34f70aeda\n",
            "              RTStream ID    : rts-01984caa-e5e5-7680-b1c4-79e89a7a34af\n",
            "              Name           : Flash_Flood_Detection_Index\n",
            "              Status         : running\n",
            "              Config         : {'frame_count': '6', 'time': '10'}\n",
            "              Prompt         : Monitor the dry riverbed and surrounding area. If moving water is detected across the land, identify it as a flash flood and describe the scene.\n",
            "          \n",
            "--------------------------------------------------------------------------------\n"
          ]
        }
      ]
    },
    {
      "cell_type": "markdown",
      "source": [
        "---\n",
        "### Let's have a look at generated scenes"
      ],
      "metadata": {
        "id": "FFoIxQO1Rbxs"
      }
    },
    {
      "cell_type": "code",
      "source": [
        "get_scenes(flood_stream , riverbed_monitoring_index_id)"
      ],
      "metadata": {
        "id": "3hfHascHRcw2",
        "colab": {
          "base_uri": "https://localhost:8080/"
        },
        "outputId": "6147fb2d-8723-40ec-9bae-826f8c3c005c"
      },
      "execution_count": null,
      "outputs": [
        {
          "output_type": "stream",
          "name": "stdout",
          "text": [
            "2025-05-29 07:34:50-2025-05-29 07:35:05: heavy rainfall detected\n",
            "--------------------------------------------------------------------------------\n",
            "2025-05-29 07:34:34-2025-05-29 07:34:49: No heavy rainfall detected. No person detected.\n",
            "--------------------------------------------------------------------------------\n",
            "2025-05-29 07:34:19-2025-05-29 07:34:34: No heavy rainfall detected. No person detected.\n",
            "--------------------------------------------------------------------------------\n",
            "2025-05-29 07:34:03-2025-05-29 07:34:18: 'person detected, rescue needed'\n",
            "--------------------------------------------------------------------------------\n",
            "2025-05-29 07:33:47-2025-05-29 07:34:02: heavy rainfall detected\n",
            "--------------------------------------------------------------------------------\n"
          ]
        }
      ]
    },
    {
      "cell_type": "markdown",
      "source": [
        "---\n",
        "### Now we can setup events and alerts for the index\n",
        "\n",
        "1. Rainfall Detection"
      ],
      "metadata": {
        "id": "--HEDr5WRe69"
      }
    },
    {
      "cell_type": "code",
      "source": [
        "# Create rainfall event\n",
        "rainfall_event_id = conn.create_event(\n",
        "    event_prompt=\"Detect heavy rainfall.\",\n",
        "    label=\"heavy_rainfall\"\n",
        ")\n",
        "print(\"Event ID:\", rainfall_event_id)"
      ],
      "metadata": {
        "id": "jf156IF7RgQf",
        "colab": {
          "base_uri": "https://localhost:8080/"
        },
        "outputId": "8d7ca5fc-80a8-4da5-8e57-96b10553dce6"
      },
      "execution_count": null,
      "outputs": [
        {
          "output_type": "stream",
          "name": "stdout",
          "text": [
            "Event ID: 5fff20421733a5e2\n"
          ]
        }
      ]
    },
    {
      "cell_type": "code",
      "source": [
        "# Create rainfall alert\n",
        "\n",
        "# Enter link to your webhook url where you want alerts to go.\n",
        "rainfall_webhook_url = \"\"\n",
        "\n",
        "if rainfall_webhook_url:\n",
        "  rainfall_alert_id = riverbed_monitoring_scene_index.create_alert(\n",
        "      rainfall_event_id,\n",
        "      callback_url=rainfall_webhook_url\n",
        "  )\n",
        "  print(\"Alert ID:\", rainfall_alert_id)\n",
        "else:\n",
        "  print(\"Error: Please provide Webhook URL. Alert cannot be created without it.\")"
      ],
      "metadata": {
        "colab": {
          "base_uri": "https://localhost:8080/"
        },
        "id": "Z9EnhfkOyvlg",
        "outputId": "26114aff-b7e7-4070-a543-e6f39df1f100",
        "collapsed": true
      },
      "execution_count": null,
      "outputs": [
        {
          "output_type": "stream",
          "name": "stdout",
          "text": [
            "Alert ID: 3b9e872d2e8f92e5\n"
          ]
        }
      ]
    },
    {
      "cell_type": "markdown",
      "source": [
        "---\n",
        "2. Human detection for rescue"
      ],
      "metadata": {
        "id": "hEAftnXnRiTd"
      }
    },
    {
      "cell_type": "code",
      "source": [
        "# Create rescue event\n",
        "rescue_event_id = conn.create_event(\n",
        "    event_prompt=\"Detect if there is a person\",\n",
        "    label=\"human_rescue\"\n",
        ")\n",
        "print(\"Event ID:\", rescue_event_id)"
      ],
      "metadata": {
        "id": "7lSfgMwNRwJZ",
        "colab": {
          "base_uri": "https://localhost:8080/"
        },
        "outputId": "4af2bd6d-4fa5-4272-c2c2-5ed16c1f102c"
      },
      "execution_count": null,
      "outputs": [
        {
          "output_type": "stream",
          "name": "stdout",
          "text": [
            "Event ID: adc908fe84bd3daf\n"
          ]
        }
      ]
    },
    {
      "cell_type": "code",
      "source": [
        "# Create rescue alert\n",
        "\n",
        "# Enter link to your webhook url where you want alerts to go.\n",
        "rescue_webhook_url = \"https://a35d5c596942.ngrok-free.app\"\n",
        "\n",
        "rescue_alert_id = riverbed_monitoring_scene_index.create_alert(\n",
        "    rescue_event_id,\n",
        "    callback_url=rescue_webhook_url\n",
        ")\n",
        "print(\"Alert ID:\", rescue_alert_id)"
      ],
      "metadata": {
        "colab": {
          "base_uri": "https://localhost:8080/"
        },
        "id": "smMe1bn_y_5q",
        "outputId": "4946eaf0-7ecd-4568-c229-50e5ae407166"
      },
      "execution_count": null,
      "outputs": [
        {
          "output_type": "stream",
          "name": "stdout",
          "text": [
            "Alert ID: b26bfc97f5f681ee\n"
          ]
        }
      ]
    },
    {
      "cell_type": "markdown",
      "source": [
        "---\n",
        "### Let us see the list of alerts associated with the `riverbed_monitoring_scene_index`"
      ],
      "metadata": {
        "id": "AzmR7GD-zabA"
      }
    },
    {
      "cell_type": "code",
      "source": [
        "def list_rtstream_alerts(rtstream, index_id):\n",
        "    \"\"\"\n",
        "    Prints a list of alerts associated with a given scene index.\n",
        "    \"\"\"\n",
        "    rtstream_scene_index = rtstream.get_scene_index(index_id)\n",
        "    alerts = rtstream_scene_index.list_alerts()\n",
        "\n",
        "    for alert in alerts:\n",
        "        print(f\"\"\"🔔 RTStream Alert:\n",
        "    Alert ID      : {alert['alert_id']}\n",
        "    Event ID      : {alert['event_id']}\n",
        "    Label         : {alert['label']}\n",
        "    Prompt        : {alert['prompt']}\n",
        "    Status        : {alert['status']}\n",
        "        \"\"\")\n",
        "        print(\"-\" * 80)\n",
        "\n",
        "list_rtstream_alerts(flood_stream, riverbed_monitoring_index_id)\n"
      ],
      "metadata": {
        "colab": {
          "base_uri": "https://localhost:8080/"
        },
        "id": "CNH-aKZizr8B",
        "outputId": "8d940375-2d21-46e2-cd16-46c792eb7bbc"
      },
      "execution_count": null,
      "outputs": [
        {
          "output_type": "stream",
          "name": "stdout",
          "text": [
            "🔔 RTStream Alert:\n",
            "    Alert ID      : 3b9e872d2e8f92e5\n",
            "    Event ID      : 5fff20421733a5e2\n",
            "    Label         : heavy_rainfall\n",
            "    Prompt        : Detect heavy rainfall.\n",
            "    Status        : enabled\n",
            "        \n",
            "--------------------------------------------------------------------------------\n",
            "🔔 RTStream Alert:\n",
            "    Alert ID      : b26bfc97f5f681ee\n",
            "    Event ID      : adc908fe84bd3daf\n",
            "    Label         : human_rescue\n",
            "    Prompt        : Detect if there is a person\n",
            "    Status        : enabled\n",
            "        \n",
            "--------------------------------------------------------------------------------\n"
          ]
        }
      ]
    },
    {
      "cell_type": "markdown",
      "source": [
        "---\n",
        "\n",
        "## 📡 Example Alert Payload\n",
        "\n",
        "When the AI detected people near the flooding riverbed, the system sent this alert to the webhook url:\n",
        "\n",
        "```json\n",
        "{\n",
        "  \"event_id\": \"event-717a1bcf7a705ec7\",\n",
        "  \"label\": \"human_rescue\",\n",
        "  \"confidence\": 0.95,\n",
        "  \"explanation\": \"Flash flood is detected and a person is present, indicating a potential need for rescue. High confidence due to explicit rescue request.\",\n",
        "  \"timestamp\": \"2025-05-29T02:19:56.724411+00:00\",\n",
        "  \"start_time\": \"2025-05-29T07:49:49.789911+05:30\",\n",
        "  \"end_time\": \"2025-05-29T07:50:04.789911+05:30\",\n",
        "  \"stream_url\": \"https://rt.stream.videodb.io/manifests/rts-019719b2-0c84-7a71-a037-311855a8d160/1748485189000000-1748485205000000.m3u8\"\n",
        "}\n",
        "```"
      ],
      "metadata": {
        "id": "DtGcRljD0UYM"
      }
    },
    {
      "cell_type": "code",
      "source": [
        "alert_stream_url = \"https://rt.stream.videodb.io/manifests/rts-019719b2-0c84-7a71-a037-311855a8d160/1748485189000000-1748485205000000.m3u8\"\n",
        "video_name = \"🌊 Arizona Desert · human_rescue\"\n",
        "\n",
        "display_stream(alert_stream_url, video_name)"
      ],
      "metadata": {
        "colab": {
          "base_uri": "https://localhost:8080/",
          "height": 422
        },
        "id": "MZ1LBQ3E1dcV",
        "outputId": "20198543-639f-4034-ee25-ceaa8272b018"
      },
      "execution_count": null,
      "outputs": [
        {
          "output_type": "execute_result",
          "data": {
            "text/plain": [
              "<IPython.core.display.HTML object>"
            ],
            "text/html": [
              "\n",
              "    <div style=\"position:relative;width:640px;\">\n",
              "      \n",
              "        <iframe\n",
              "            width=\"800\"\n",
              "            height=\"400\"\n",
              "            src=\"https://console.videodb.io/player?url=https://rt.stream.videodb.io/manifests/rts-019719b2-0c84-7a71-a037-311855a8d160/1748485189000000-1748485205000000.m3u8\"\n",
              "            frameborder=\"0\"\n",
              "            allowfullscreen\n",
              "            \n",
              "        ></iframe>\n",
              "        \n",
              "      <div style=\"position:absolute;top:10px;left:10px;background:rgba(0,0,0,0.6);color:#fff;padding:6px 12px;border-radius:4px;font-size:13px;font-family:sans-serif;\">\n",
              "        <strong>🌊 Arizona Desert · human_rescue</strong><br>2025-05-29 02:19:49 → 2025-05-29 02:20:05 UTC\n",
              "      </div>\n",
              "    </div>\n",
              "    "
            ]
          },
          "metadata": {},
          "execution_count": 7
        }
      ]
    },
    {
      "cell_type": "markdown",
      "source": [
        "---\n",
        "-  Let us disable the alerts now."
      ],
      "metadata": {
        "id": "2Q_xgt7790wZ"
      }
    },
    {
      "cell_type": "code",
      "source": [
        "riverbed_monitoring_scene_index.disable_alert(rainfall_alert_id)\n",
        "riverbed_monitoring_scene_index.disable_alert(rescue_alert_id)"
      ],
      "metadata": {
        "id": "ZO8vF3-W951R"
      },
      "execution_count": null,
      "outputs": []
    },
    {
      "cell_type": "markdown",
      "source": [
        "- To enable the alert again"
      ],
      "metadata": {
        "id": "TnDcrHaV93jR"
      }
    },
    {
      "cell_type": "code",
      "source": [
        "riverbed_monitoring_scene_index.enable_alert(rainfall_alert_id)\n",
        "riverbed_monitoring_scene_index.enable_alert(rescue_alert_id)"
      ],
      "metadata": {
        "id": "8QR3uW6x96MS"
      },
      "execution_count": null,
      "outputs": []
    },
    {
      "cell_type": "markdown",
      "source": [
        "- Now let us stop the stream"
      ],
      "metadata": {
        "id": "03jdVUVa-xoA"
      }
    },
    {
      "cell_type": "code",
      "source": [
        "flood_stream.stop()"
      ],
      "metadata": {
        "id": "K_3-Dw0v-xFY"
      },
      "execution_count": null,
      "outputs": []
    },
    {
      "cell_type": "markdown",
      "source": [
        "---\n",
        "\n",
        "## 🌙 Wrapping Up: Real-Time Environmental Safety\n",
        "\n",
        "With this system in place, communities, tourists, and local authorities in Arizona’s desert regions can receive **immediate alerts** when a dangerous flash flood occurs — gaining critical seconds to take cover, clear routes, or initiate rescues.\n",
        "\n",
        "---\n",
        "\n",
        "## 🔥 What Else Could We Monitor?\n",
        "\n",
        "This system isn’t limited to flash floods. The same AI-driven video monitoring approach can protect lives in other natural disasters too.\n",
        "\n",
        "---\n",
        "\n",
        "### 🌲 Forest Fire Detection\n",
        "\n",
        "**Why it’s needed:**  \n",
        "In remote forest areas, smoke plumes and early fire flickers often go unnoticed for several minutes before traditional sensors or satellites pick them up.\n",
        "\n",
        "**How we can do it better:**  \n",
        "With AI-powered cameras watching key zones, we can detect rapid smoke build-ups or visible flames long before automated sensors trigger.\n",
        "\n",
        "**Example indexing prompt:**\n",
        "\n",
        "```markdown\n",
        "\"Monitor the forest area carefully. Detect sudden rising smoke, increasing haze, or visible flames. Clearly describe if a fire outbreak is visibly starting.\"\n",
        "```\n",
        "\n",
        "---\n",
        "\n",
        "### 🌊 Sudden Tsunami Detection\n",
        "\n",
        "**Why it’s needed:**  \n",
        "Even with tsunami sensors and ocean buoys, near-shoreline towns often get only minutes of warning. Visual cues like water rapidly pulling away from shore or unusually large approaching waves are immediate, reliable signs.\n",
        "\n",
        "**How we can do it better:**  \n",
        "Install AI cameras on popular beaches and coastlines to detect rapid water retreat or walls of water approaching.\n",
        "\n",
        "**Example indexing prompt:**\n",
        "\n",
        "```markdown\n",
        "\"Watch the beach and shoreline closely. Detect unusual rapid water withdrawal from the shore, or approaching large waves indicating a possible tsunami. Describe the situation clearly.\"\n",
        "```\n",
        "\n",
        "---\n",
        "\n",
        "### 🏔️ Landslide / Avalanche Detection\n",
        "\n",
        "**Why it’s needed:**  \n",
        "Mountain highways and tourist trails are often cut off by sudden landslides or snow avalanches, where every second matters for evacuation and road closures.\n",
        "\n",
        "**How we can do it better:**  \n",
        "Place AI cameras at landslide-prone mountain slopes or snow-covered passes to detect falling rocks, moving soil, or snow slides in real time.\n",
        "\n",
        "**Example indexing prompt:**\n",
        "\n",
        "```markdown\n",
        "\"Monitor the mountain slope area carefully. Detect falling rocks, soil displacement, or sudden snow slides. Clearly describe if a landslide or avalanche is starting.\"\n",
        "```\n",
        "\n",
        "---\n",
        "\n",
        "## 🌍 The Possibilities Are Endless\n",
        "\n",
        "Real-time AI video monitoring isn’t just for cities and homes — it can actively save lives in wild, unpredictable environments too.\n",
        "\n",
        "**What natural threat would *you* monitor next?**"
      ],
      "metadata": {
        "id": "BwE1fRaoR4BL"
      }
    }
  ]
}