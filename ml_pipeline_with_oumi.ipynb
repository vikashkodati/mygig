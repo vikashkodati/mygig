{
  "nbformat": 4,
  "nbformat_minor": 0,
  "metadata": {
    "colab": {
      "provenance": [],
      "include_colab_link": true
    },
    "kernelspec": {
      "name": "python3",
      "display_name": "Python 3"
    },
    "language_info": {
      "name": "python"
    },
    "widgets": {
      "application/vnd.jupyter.widget-state+json": {
        "8afadcfd095449a9aa2f7db4107b29fb": {
          "model_module": "@jupyter-widgets/controls",
          "model_name": "HBoxModel",
          "model_module_version": "1.5.0",
          "state": {
            "_dom_classes": [],
            "_model_module": "@jupyter-widgets/controls",
            "_model_module_version": "1.5.0",
            "_model_name": "HBoxModel",
            "_view_count": null,
            "_view_module": "@jupyter-widgets/controls",
            "_view_module_version": "1.5.0",
            "_view_name": "HBoxView",
            "box_style": "",
            "children": [
              "IPY_MODEL_09d12483433242d5b3a38c6cc75d0b50",
              "IPY_MODEL_a2ec8909e9cd48feab319dbc649095c5",
              "IPY_MODEL_d5f41dd19ecc4394b6096f3643b65364"
            ],
            "layout": "IPY_MODEL_00deb6032ad34921af4b256f24d6f98c"
          }
        },
        "09d12483433242d5b3a38c6cc75d0b50": {
          "model_module": "@jupyter-widgets/controls",
          "model_name": "HTMLModel",
          "model_module_version": "1.5.0",
          "state": {
            "_dom_classes": [],
            "_model_module": "@jupyter-widgets/controls",
            "_model_module_version": "1.5.0",
            "_model_name": "HTMLModel",
            "_view_count": null,
            "_view_module": "@jupyter-widgets/controls",
            "_view_module_version": "1.5.0",
            "_view_name": "HTMLView",
            "description": "",
            "description_tooltip": null,
            "layout": "IPY_MODEL_97dceb9e1f3f4cfa89b195a466076783",
            "placeholder": "​",
            "style": "IPY_MODEL_614c8bf10442412cb58c169bf66c1914",
            "value": "Loading checkpoint shards: 100%"
          }
        },
        "a2ec8909e9cd48feab319dbc649095c5": {
          "model_module": "@jupyter-widgets/controls",
          "model_name": "FloatProgressModel",
          "model_module_version": "1.5.0",
          "state": {
            "_dom_classes": [],
            "_model_module": "@jupyter-widgets/controls",
            "_model_module_version": "1.5.0",
            "_model_name": "FloatProgressModel",
            "_view_count": null,
            "_view_module": "@jupyter-widgets/controls",
            "_view_module_version": "1.5.0",
            "_view_name": "ProgressView",
            "bar_style": "success",
            "description": "",
            "description_tooltip": null,
            "layout": "IPY_MODEL_9d3d056074f84931af5e7eeeaaa937df",
            "max": 2,
            "min": 0,
            "orientation": "horizontal",
            "style": "IPY_MODEL_11d4722649b546fdbf99bca0ef73857a",
            "value": 2
          }
        },
        "d5f41dd19ecc4394b6096f3643b65364": {
          "model_module": "@jupyter-widgets/controls",
          "model_name": "HTMLModel",
          "model_module_version": "1.5.0",
          "state": {
            "_dom_classes": [],
            "_model_module": "@jupyter-widgets/controls",
            "_model_module_version": "1.5.0",
            "_model_name": "HTMLModel",
            "_view_count": null,
            "_view_module": "@jupyter-widgets/controls",
            "_view_module_version": "1.5.0",
            "_view_name": "HTMLView",
            "description": "",
            "description_tooltip": null,
            "layout": "IPY_MODEL_fae0d091256441c683adf0863cf1ea00",
            "placeholder": "​",
            "style": "IPY_MODEL_093de13b91d94a108da527b0681eb73b",
            "value": " 2/2 [00:02&lt;00:00,  1.09it/s]"
          }
        },
        "00deb6032ad34921af4b256f24d6f98c": {
          "model_module": "@jupyter-widgets/base",
          "model_name": "LayoutModel",
          "model_module_version": "1.2.0",
          "state": {
            "_model_module": "@jupyter-widgets/base",
            "_model_module_version": "1.2.0",
            "_model_name": "LayoutModel",
            "_view_count": null,
            "_view_module": "@jupyter-widgets/base",
            "_view_module_version": "1.2.0",
            "_view_name": "LayoutView",
            "align_content": null,
            "align_items": null,
            "align_self": null,
            "border": null,
            "bottom": null,
            "display": null,
            "flex": null,
            "flex_flow": null,
            "grid_area": null,
            "grid_auto_columns": null,
            "grid_auto_flow": null,
            "grid_auto_rows": null,
            "grid_column": null,
            "grid_gap": null,
            "grid_row": null,
            "grid_template_areas": null,
            "grid_template_columns": null,
            "grid_template_rows": null,
            "height": null,
            "justify_content": null,
            "justify_items": null,
            "left": null,
            "margin": null,
            "max_height": null,
            "max_width": null,
            "min_height": null,
            "min_width": null,
            "object_fit": null,
            "object_position": null,
            "order": null,
            "overflow": null,
            "overflow_x": null,
            "overflow_y": null,
            "padding": null,
            "right": null,
            "top": null,
            "visibility": null,
            "width": null
          }
        },
        "97dceb9e1f3f4cfa89b195a466076783": {
          "model_module": "@jupyter-widgets/base",
          "model_name": "LayoutModel",
          "model_module_version": "1.2.0",
          "state": {
            "_model_module": "@jupyter-widgets/base",
            "_model_module_version": "1.2.0",
            "_model_name": "LayoutModel",
            "_view_count": null,
            "_view_module": "@jupyter-widgets/base",
            "_view_module_version": "1.2.0",
            "_view_name": "LayoutView",
            "align_content": null,
            "align_items": null,
            "align_self": null,
            "border": null,
            "bottom": null,
            "display": null,
            "flex": null,
            "flex_flow": null,
            "grid_area": null,
            "grid_auto_columns": null,
            "grid_auto_flow": null,
            "grid_auto_rows": null,
            "grid_column": null,
            "grid_gap": null,
            "grid_row": null,
            "grid_template_areas": null,
            "grid_template_columns": null,
            "grid_template_rows": null,
            "height": null,
            "justify_content": null,
            "justify_items": null,
            "left": null,
            "margin": null,
            "max_height": null,
            "max_width": null,
            "min_height": null,
            "min_width": null,
            "object_fit": null,
            "object_position": null,
            "order": null,
            "overflow": null,
            "overflow_x": null,
            "overflow_y": null,
            "padding": null,
            "right": null,
            "top": null,
            "visibility": null,
            "width": null
          }
        },
        "614c8bf10442412cb58c169bf66c1914": {
          "model_module": "@jupyter-widgets/controls",
          "model_name": "DescriptionStyleModel",
          "model_module_version": "1.5.0",
          "state": {
            "_model_module": "@jupyter-widgets/controls",
            "_model_module_version": "1.5.0",
            "_model_name": "DescriptionStyleModel",
            "_view_count": null,
            "_view_module": "@jupyter-widgets/base",
            "_view_module_version": "1.2.0",
            "_view_name": "StyleView",
            "description_width": ""
          }
        },
        "9d3d056074f84931af5e7eeeaaa937df": {
          "model_module": "@jupyter-widgets/base",
          "model_name": "LayoutModel",
          "model_module_version": "1.2.0",
          "state": {
            "_model_module": "@jupyter-widgets/base",
            "_model_module_version": "1.2.0",
            "_model_name": "LayoutModel",
            "_view_count": null,
            "_view_module": "@jupyter-widgets/base",
            "_view_module_version": "1.2.0",
            "_view_name": "LayoutView",
            "align_content": null,
            "align_items": null,
            "align_self": null,
            "border": null,
            "bottom": null,
            "display": null,
            "flex": null,
            "flex_flow": null,
            "grid_area": null,
            "grid_auto_columns": null,
            "grid_auto_flow": null,
            "grid_auto_rows": null,
            "grid_column": null,
            "grid_gap": null,
            "grid_row": null,
            "grid_template_areas": null,
            "grid_template_columns": null,
            "grid_template_rows": null,
            "height": null,
            "justify_content": null,
            "justify_items": null,
            "left": null,
            "margin": null,
            "max_height": null,
            "max_width": null,
            "min_height": null,
            "min_width": null,
            "object_fit": null,
            "object_position": null,
            "order": null,
            "overflow": null,
            "overflow_x": null,
            "overflow_y": null,
            "padding": null,
            "right": null,
            "top": null,
            "visibility": null,
            "width": null
          }
        },
        "11d4722649b546fdbf99bca0ef73857a": {
          "model_module": "@jupyter-widgets/controls",
          "model_name": "ProgressStyleModel",
          "model_module_version": "1.5.0",
          "state": {
            "_model_module": "@jupyter-widgets/controls",
            "_model_module_version": "1.5.0",
            "_model_name": "ProgressStyleModel",
            "_view_count": null,
            "_view_module": "@jupyter-widgets/base",
            "_view_module_version": "1.2.0",
            "_view_name": "StyleView",
            "bar_color": null,
            "description_width": ""
          }
        },
        "fae0d091256441c683adf0863cf1ea00": {
          "model_module": "@jupyter-widgets/base",
          "model_name": "LayoutModel",
          "model_module_version": "1.2.0",
          "state": {
            "_model_module": "@jupyter-widgets/base",
            "_model_module_version": "1.2.0",
            "_model_name": "LayoutModel",
            "_view_count": null,
            "_view_module": "@jupyter-widgets/base",
            "_view_module_version": "1.2.0",
            "_view_name": "LayoutView",
            "align_content": null,
            "align_items": null,
            "align_self": null,
            "border": null,
            "bottom": null,
            "display": null,
            "flex": null,
            "flex_flow": null,
            "grid_area": null,
            "grid_auto_columns": null,
            "grid_auto_flow": null,
            "grid_auto_rows": null,
            "grid_column": null,
            "grid_gap": null,
            "grid_row": null,
            "grid_template_areas": null,
            "grid_template_columns": null,
            "grid_template_rows": null,
            "height": null,
            "justify_content": null,
            "justify_items": null,
            "left": null,
            "margin": null,
            "max_height": null,
            "max_width": null,
            "min_height": null,
            "min_width": null,
            "object_fit": null,
            "object_position": null,
            "order": null,
            "overflow": null,
            "overflow_x": null,
            "overflow_y": null,
            "padding": null,
            "right": null,
            "top": null,
            "visibility": null,
            "width": null
          }
        },
        "093de13b91d94a108da527b0681eb73b": {
          "model_module": "@jupyter-widgets/controls",
          "model_name": "DescriptionStyleModel",
          "model_module_version": "1.5.0",
          "state": {
            "_model_module": "@jupyter-widgets/controls",
            "_model_module_version": "1.5.0",
            "_model_name": "DescriptionStyleModel",
            "_view_count": null,
            "_view_module": "@jupyter-widgets/base",
            "_view_module_version": "1.2.0",
            "_view_name": "StyleView",
            "description_width": ""
          }
        }
      }
    }
  },
  "cells": [
    {
      "cell_type": "markdown",
      "metadata": {
        "id": "view-in-github",
        "colab_type": "text"
      },
      "source": [
        "<a href=\"https://colab.research.google.com/github/vikashkodati/mygig/blob/main/ml_pipeline_with_oumi.ipynb\" target=\"_parent\"><img src=\"https://colab.research.google.com/assets/colab-badge.svg\" alt=\"Open In Colab\"/></a>"
      ]
    },
    {
      "cell_type": "code",
      "execution_count": null,
      "metadata": {
        "colab": {
          "base_uri": "https://localhost:8080/"
        },
        "collapsed": true,
        "id": "e87mULuJpZrk",
        "outputId": "fb67ec52-d9f3-4dd6-c79a-51dc0847d935"
      },
      "outputs": [
        {
          "output_type": "stream",
          "name": "stdout",
          "text": [
            "Requirement already satisfied: oumi[gpu] in /usr/local/lib/python3.12/dist-packages (0.4.0)\n",
            "Requirement already satisfied: accelerate<2.0,>=1.10.0 in /usr/local/lib/python3.12/dist-packages (from oumi[gpu]) (1.10.1)\n",
            "Requirement already satisfied: aiohttp<3.16,>=3.12 in /usr/local/lib/python3.12/dist-packages (from oumi[gpu]) (3.12.15)\n",
            "Requirement already satisfied: aiofiles<25,>=24.1.0 in /usr/local/lib/python3.12/dist-packages (from oumi[gpu]) (24.1.0)\n",
            "Requirement already satisfied: aioresponses<0.8,>=0.7 in /usr/local/lib/python3.12/dist-packages (from oumi[gpu]) (0.7.8)\n",
            "Requirement already satisfied: backoff<2.3,>=2.2.1 in /usr/local/lib/python3.12/dist-packages (from oumi[gpu]) (2.2.1)\n",
            "Requirement already satisfied: click<8.3.0 in /usr/local/lib/python3.12/dist-packages (from oumi[gpu]) (8.2.1)\n",
            "Requirement already satisfied: datasets<3.3,>=3.2 in /usr/local/lib/python3.12/dist-packages (from oumi[gpu]) (3.2.0)\n",
            "Requirement already satisfied: hdrhistogram<0.11,>=0.10 in /usr/local/lib/python3.12/dist-packages (from oumi[gpu]) (0.10.3)\n",
            "Requirement already satisfied: jsonlines in /usr/local/lib/python3.12/dist-packages (from oumi[gpu]) (4.0.0)\n",
            "Requirement already satisfied: lm_eval<0.5.0,>=0.4 in /usr/local/lib/python3.12/dist-packages (from lm_eval[wandb]<0.5.0,>=0.4->oumi[gpu]) (0.4.9.1)\n",
            "Requirement already satisfied: mlflow>=3.1 in /usr/local/lib/python3.12/dist-packages (from oumi[gpu]) (3.4.0)\n",
            "Requirement already satisfied: numpy<2.4,>=1.26 in /usr/local/lib/python3.12/dist-packages (from oumi[gpu]) (1.26.4)\n",
            "Requirement already satisfied: omegaconf==2.4.0.dev3 in /usr/local/lib/python3.12/dist-packages (from oumi[gpu]) (2.4.0.dev3)\n",
            "Requirement already satisfied: packaging in /usr/local/lib/python3.12/dist-packages (from oumi[gpu]) (25.0)\n",
            "Requirement already satisfied: pandas<3,>=2.3 in /usr/local/lib/python3.12/dist-packages (from oumi[gpu]) (2.3.2)\n",
            "Requirement already satisfied: peft<0.18,>=0.17 in /usr/local/lib/python3.12/dist-packages (from oumi[gpu]) (0.17.1)\n",
            "Requirement already satisfied: pexpect<4.10,>=4.9 in /usr/local/lib/python3.12/dist-packages (from oumi[gpu]) (4.9.0)\n",
            "Requirement already satisfied: pillow<11.4,>=11.3 in /usr/local/lib/python3.12/dist-packages (from oumi[gpu]) (11.3.0)\n",
            "Requirement already satisfied: protobuf>=6.32 in /usr/local/lib/python3.12/dist-packages (from oumi[gpu]) (6.32.1)\n",
            "Requirement already satisfied: pydantic<2.12,>=2.11 in /usr/local/lib/python3.12/dist-packages (from oumi[gpu]) (2.11.9)\n",
            "Requirement already satisfied: responses<0.26,>=0.25 in /usr/local/lib/python3.12/dist-packages (from oumi[gpu]) (0.25.8)\n",
            "Requirement already satisfied: safetensors<0.7,>=0.6 in /usr/local/lib/python3.12/dist-packages (from oumi[gpu]) (0.6.2)\n",
            "Requirement already satisfied: skypilot<0.8,>=0.7 in /usr/local/lib/python3.12/dist-packages (from oumi[gpu]) (0.7.0)\n",
            "Requirement already satisfied: tensorboard<2.21,>=2.20 in /usr/local/lib/python3.12/dist-packages (from oumi[gpu]) (2.20.0)\n",
            "Requirement already satisfied: torch<2.9.0,>=2.6 in /usr/local/lib/python3.12/dist-packages (from oumi[gpu]) (2.8.0+cu126)\n",
            "Requirement already satisfied: torchao<0.13,>=0.12 in /usr/local/lib/python3.12/dist-packages (from oumi[gpu]) (0.12.0)\n",
            "Requirement already satisfied: torchdata<0.10.0,>=0.9 in /usr/local/lib/python3.12/dist-packages (from oumi[gpu]) (0.9.0)\n",
            "Requirement already satisfied: torchvision<0.24,>=0.21 in /usr/local/lib/python3.12/dist-packages (from oumi[gpu]) (0.23.0+cu126)\n",
            "Requirement already satisfied: tqdm in /usr/local/lib/python3.12/dist-packages (from oumi[gpu]) (4.67.1)\n",
            "Requirement already satisfied: transformers<4.56,>=4.55 in /usr/local/lib/python3.12/dist-packages (from oumi[gpu]) (4.55.4)\n",
            "Requirement already satisfied: trl<0.22,>=0.21 in /usr/local/lib/python3.12/dist-packages (from oumi[gpu]) (0.21.0)\n",
            "Requirement already satisfied: typer in /usr/local/lib/python3.12/dist-packages (from oumi[gpu]) (0.17.4)\n",
            "Requirement already satisfied: typing_extensions in /usr/local/lib/python3.12/dist-packages (from oumi[gpu]) (4.15.0)\n",
            "Requirement already satisfied: wandb<0.22,>=0.21 in /usr/local/lib/python3.12/dist-packages (from oumi[gpu]) (0.21.4)\n",
            "Requirement already satisfied: liger-kernel<0.7,>=0.6 in /usr/local/lib/python3.12/dist-packages (from oumi[gpu]) (0.6.2)\n",
            "Requirement already satisfied: nvidia-ml-py<13.581,>=13.580 in /usr/local/lib/python3.12/dist-packages (from oumi[gpu]) (13.580.82)\n",
            "Requirement already satisfied: bitsandbytes<0.48,>=0.47 in /usr/local/lib/python3.12/dist-packages (from oumi[gpu]) (0.47.0)\n",
            "Requirement already satisfied: verl<0.6,>=0.5 in /usr/local/lib/python3.12/dist-packages (from oumi[gpu]) (0.5.0)\n",
            "Requirement already satisfied: vllm<0.11,>=0.10 in /usr/local/lib/python3.12/dist-packages (from oumi[gpu]) (0.10.2)\n",
            "Requirement already satisfied: deepspeed<0.18.0,>=0.17.0 in /usr/local/lib/python3.12/dist-packages (from oumi[gpu]) (0.17.6)\n",
            "Requirement already satisfied: PyYAML>=5.1.0 in /usr/local/lib/python3.12/dist-packages (from omegaconf==2.4.0.dev3->oumi[gpu]) (6.0.2)\n",
            "Requirement already satisfied: psutil in /usr/local/lib/python3.12/dist-packages (from accelerate<2.0,>=1.10.0->oumi[gpu]) (5.9.5)\n",
            "Requirement already satisfied: huggingface_hub>=0.21.0 in /usr/local/lib/python3.12/dist-packages (from accelerate<2.0,>=1.10.0->oumi[gpu]) (0.35.0)\n",
            "Requirement already satisfied: aiohappyeyeballs>=2.5.0 in /usr/local/lib/python3.12/dist-packages (from aiohttp<3.16,>=3.12->oumi[gpu]) (2.6.1)\n",
            "Requirement already satisfied: aiosignal>=1.4.0 in /usr/local/lib/python3.12/dist-packages (from aiohttp<3.16,>=3.12->oumi[gpu]) (1.4.0)\n",
            "Requirement already satisfied: attrs>=17.3.0 in /usr/local/lib/python3.12/dist-packages (from aiohttp<3.16,>=3.12->oumi[gpu]) (25.3.0)\n",
            "Requirement already satisfied: frozenlist>=1.1.1 in /usr/local/lib/python3.12/dist-packages (from aiohttp<3.16,>=3.12->oumi[gpu]) (1.7.0)\n",
            "Requirement already satisfied: multidict<7.0,>=4.5 in /usr/local/lib/python3.12/dist-packages (from aiohttp<3.16,>=3.12->oumi[gpu]) (6.6.4)\n",
            "Requirement already satisfied: propcache>=0.2.0 in /usr/local/lib/python3.12/dist-packages (from aiohttp<3.16,>=3.12->oumi[gpu]) (0.3.2)\n",
            "Requirement already satisfied: yarl<2.0,>=1.17.0 in /usr/local/lib/python3.12/dist-packages (from aiohttp<3.16,>=3.12->oumi[gpu]) (1.20.1)\n",
            "Requirement already satisfied: filelock in /usr/local/lib/python3.12/dist-packages (from datasets<3.3,>=3.2->oumi[gpu]) (3.19.1)\n",
            "Requirement already satisfied: pyarrow>=15.0.0 in /usr/local/lib/python3.12/dist-packages (from datasets<3.3,>=3.2->oumi[gpu]) (19.0.1)\n",
            "Requirement already satisfied: dill<0.3.9,>=0.3.0 in /usr/local/lib/python3.12/dist-packages (from datasets<3.3,>=3.2->oumi[gpu]) (0.3.8)\n",
            "Requirement already satisfied: requests>=2.32.2 in /usr/local/lib/python3.12/dist-packages (from datasets<3.3,>=3.2->oumi[gpu]) (2.32.4)\n",
            "Requirement already satisfied: xxhash in /usr/local/lib/python3.12/dist-packages (from datasets<3.3,>=3.2->oumi[gpu]) (3.5.0)\n",
            "Requirement already satisfied: multiprocess<0.70.17 in /usr/local/lib/python3.12/dist-packages (from datasets<3.3,>=3.2->oumi[gpu]) (0.70.16)\n",
            "Requirement already satisfied: fsspec<=2024.9.0,>=2023.1.0 in /usr/local/lib/python3.12/dist-packages (from fsspec[http]<=2024.9.0,>=2023.1.0->datasets<3.3,>=3.2->oumi[gpu]) (2024.9.0)\n",
            "Requirement already satisfied: einops in /usr/local/lib/python3.12/dist-packages (from deepspeed<0.18.0,>=0.17.0->oumi[gpu]) (0.8.1)\n",
            "Requirement already satisfied: hjson in /usr/local/lib/python3.12/dist-packages (from deepspeed<0.18.0,>=0.17.0->oumi[gpu]) (3.1.0)\n",
            "Requirement already satisfied: msgpack in /usr/local/lib/python3.12/dist-packages (from deepspeed<0.18.0,>=0.17.0->oumi[gpu]) (1.1.1)\n",
            "Requirement already satisfied: ninja in /usr/local/lib/python3.12/dist-packages (from deepspeed<0.18.0,>=0.17.0->oumi[gpu]) (1.13.0)\n",
            "Requirement already satisfied: py-cpuinfo in /usr/local/lib/python3.12/dist-packages (from deepspeed<0.18.0,>=0.17.0->oumi[gpu]) (9.0.0)\n",
            "Requirement already satisfied: pbr>=1.4 in /usr/local/lib/python3.12/dist-packages (from hdrhistogram<0.11,>=0.10->oumi[gpu]) (7.0.1)\n",
            "Requirement already satisfied: triton>=2.3.1 in /usr/local/lib/python3.12/dist-packages (from liger-kernel<0.7,>=0.6->oumi[gpu]) (3.4.0)\n",
            "Requirement already satisfied: evaluate in /usr/local/lib/python3.12/dist-packages (from lm_eval<0.5.0,>=0.4->lm_eval[wandb]<0.5.0,>=0.4->oumi[gpu]) (0.4.6)\n",
            "Requirement already satisfied: numexpr in /usr/local/lib/python3.12/dist-packages (from lm_eval<0.5.0,>=0.4->lm_eval[wandb]<0.5.0,>=0.4->oumi[gpu]) (2.12.1)\n",
            "Requirement already satisfied: pybind11>=2.6.2 in /usr/local/lib/python3.12/dist-packages (from lm_eval<0.5.0,>=0.4->lm_eval[wandb]<0.5.0,>=0.4->oumi[gpu]) (3.0.1)\n",
            "Requirement already satisfied: pytablewriter in /usr/local/lib/python3.12/dist-packages (from lm_eval<0.5.0,>=0.4->lm_eval[wandb]<0.5.0,>=0.4->oumi[gpu]) (1.2.1)\n",
            "Requirement already satisfied: rouge-score>=0.0.4 in /usr/local/lib/python3.12/dist-packages (from lm_eval<0.5.0,>=0.4->lm_eval[wandb]<0.5.0,>=0.4->oumi[gpu]) (0.1.2)\n",
            "Requirement already satisfied: sacrebleu>=1.5.0 in /usr/local/lib/python3.12/dist-packages (from lm_eval<0.5.0,>=0.4->lm_eval[wandb]<0.5.0,>=0.4->oumi[gpu]) (2.5.1)\n",
            "Requirement already satisfied: scikit-learn>=0.24.1 in /usr/local/lib/python3.12/dist-packages (from lm_eval<0.5.0,>=0.4->lm_eval[wandb]<0.5.0,>=0.4->oumi[gpu]) (1.6.1)\n",
            "Requirement already satisfied: sqlitedict in /usr/local/lib/python3.12/dist-packages (from lm_eval<0.5.0,>=0.4->lm_eval[wandb]<0.5.0,>=0.4->oumi[gpu]) (2.1.0)\n",
            "Requirement already satisfied: tqdm-multiprocess in /usr/local/lib/python3.12/dist-packages (from lm_eval<0.5.0,>=0.4->lm_eval[wandb]<0.5.0,>=0.4->oumi[gpu]) (0.0.11)\n",
            "Requirement already satisfied: zstandard in /usr/local/lib/python3.12/dist-packages (from lm_eval<0.5.0,>=0.4->lm_eval[wandb]<0.5.0,>=0.4->oumi[gpu]) (0.25.0)\n",
            "Requirement already satisfied: word2number in /usr/local/lib/python3.12/dist-packages (from lm_eval<0.5.0,>=0.4->lm_eval[wandb]<0.5.0,>=0.4->oumi[gpu]) (1.1)\n",
            "Requirement already satisfied: more_itertools in /usr/local/lib/python3.12/dist-packages (from lm_eval<0.5.0,>=0.4->lm_eval[wandb]<0.5.0,>=0.4->oumi[gpu]) (10.8.0)\n",
            "Requirement already satisfied: mlflow-skinny==3.4.0 in /usr/local/lib/python3.12/dist-packages (from mlflow>=3.1->oumi[gpu]) (3.4.0)\n",
            "Requirement already satisfied: mlflow-tracing==3.4.0 in /usr/local/lib/python3.12/dist-packages (from mlflow>=3.1->oumi[gpu]) (3.4.0)\n",
            "Requirement already satisfied: Flask<4 in /usr/local/lib/python3.12/dist-packages (from mlflow>=3.1->oumi[gpu]) (3.1.2)\n",
            "Requirement already satisfied: alembic!=1.10.0,<2 in /usr/local/lib/python3.12/dist-packages (from mlflow>=3.1->oumi[gpu]) (1.16.5)\n",
            "Requirement already satisfied: cryptography<46,>=43.0.0 in /usr/local/lib/python3.12/dist-packages (from mlflow>=3.1->oumi[gpu]) (43.0.3)\n",
            "Requirement already satisfied: docker<8,>=4.0.0 in /usr/local/lib/python3.12/dist-packages (from mlflow>=3.1->oumi[gpu]) (7.1.0)\n",
            "Requirement already satisfied: fastmcp<3,>=2.0.0 in /usr/local/lib/python3.12/dist-packages (from mlflow>=3.1->oumi[gpu]) (2.12.3)\n",
            "Requirement already satisfied: graphene<4 in /usr/local/lib/python3.12/dist-packages (from mlflow>=3.1->oumi[gpu]) (3.4.3)\n",
            "Requirement already satisfied: gunicorn<24 in /usr/local/lib/python3.12/dist-packages (from mlflow>=3.1->oumi[gpu]) (23.0.0)\n",
            "Requirement already satisfied: matplotlib<4 in /usr/local/lib/python3.12/dist-packages (from mlflow>=3.1->oumi[gpu]) (3.10.0)\n",
            "Requirement already satisfied: scipy<2 in /usr/local/lib/python3.12/dist-packages (from mlflow>=3.1->oumi[gpu]) (1.16.2)\n",
            "Requirement already satisfied: sqlalchemy<3,>=1.4.0 in /usr/local/lib/python3.12/dist-packages (from mlflow>=3.1->oumi[gpu]) (2.0.43)\n",
            "Requirement already satisfied: cachetools<7,>=5.0.0 in /usr/local/lib/python3.12/dist-packages (from mlflow-skinny==3.4.0->mlflow>=3.1->oumi[gpu]) (5.5.2)\n",
            "Requirement already satisfied: cloudpickle<4 in /usr/local/lib/python3.12/dist-packages (from mlflow-skinny==3.4.0->mlflow>=3.1->oumi[gpu]) (3.1.1)\n",
            "Requirement already satisfied: databricks-sdk<1,>=0.20.0 in /usr/local/lib/python3.12/dist-packages (from mlflow-skinny==3.4.0->mlflow>=3.1->oumi[gpu]) (0.66.0)\n",
            "Requirement already satisfied: fastapi<1 in /usr/local/lib/python3.12/dist-packages (from mlflow-skinny==3.4.0->mlflow>=3.1->oumi[gpu]) (0.116.2)\n",
            "Requirement already satisfied: gitpython<4,>=3.1.9 in /usr/local/lib/python3.12/dist-packages (from mlflow-skinny==3.4.0->mlflow>=3.1->oumi[gpu]) (3.1.45)\n",
            "Requirement already satisfied: importlib_metadata!=4.7.0,<9,>=3.7.0 in /usr/local/lib/python3.12/dist-packages (from mlflow-skinny==3.4.0->mlflow>=3.1->oumi[gpu]) (8.7.0)\n",
            "Requirement already satisfied: opentelemetry-api<3,>=1.9.0 in /usr/local/lib/python3.12/dist-packages (from mlflow-skinny==3.4.0->mlflow>=3.1->oumi[gpu]) (1.37.0)\n",
            "Requirement already satisfied: opentelemetry-proto<3,>=1.9.0 in /usr/local/lib/python3.12/dist-packages (from mlflow-skinny==3.4.0->mlflow>=3.1->oumi[gpu]) (1.37.0)\n",
            "Requirement already satisfied: opentelemetry-sdk<3,>=1.9.0 in /usr/local/lib/python3.12/dist-packages (from mlflow-skinny==3.4.0->mlflow>=3.1->oumi[gpu]) (1.37.0)\n",
            "Requirement already satisfied: python-dotenv<2,>=0.19.0 in /usr/local/lib/python3.12/dist-packages (from mlflow-skinny==3.4.0->mlflow>=3.1->oumi[gpu]) (1.1.1)\n",
            "Requirement already satisfied: sqlparse<1,>=0.4.0 in /usr/local/lib/python3.12/dist-packages (from mlflow-skinny==3.4.0->mlflow>=3.1->oumi[gpu]) (0.5.3)\n",
            "Requirement already satisfied: uvicorn<1 in /usr/local/lib/python3.12/dist-packages (from mlflow-skinny==3.4.0->mlflow>=3.1->oumi[gpu]) (0.35.0)\n",
            "Requirement already satisfied: python-dateutil>=2.8.2 in /usr/local/lib/python3.12/dist-packages (from pandas<3,>=2.3->oumi[gpu]) (2.9.0.post0)\n",
            "Requirement already satisfied: pytz>=2020.1 in /usr/local/lib/python3.12/dist-packages (from pandas<3,>=2.3->oumi[gpu]) (2025.2)\n",
            "Requirement already satisfied: tzdata>=2022.7 in /usr/local/lib/python3.12/dist-packages (from pandas<3,>=2.3->oumi[gpu]) (2025.2)\n",
            "Requirement already satisfied: ptyprocess>=0.5 in /usr/local/lib/python3.12/dist-packages (from pexpect<4.10,>=4.9->oumi[gpu]) (0.7.0)\n",
            "Requirement already satisfied: annotated-types>=0.6.0 in /usr/local/lib/python3.12/dist-packages (from pydantic<2.12,>=2.11->oumi[gpu]) (0.7.0)\n",
            "Requirement already satisfied: pydantic-core==2.33.2 in /usr/local/lib/python3.12/dist-packages (from pydantic<2.12,>=2.11->oumi[gpu]) (2.33.2)\n",
            "Requirement already satisfied: typing-inspection>=0.4.0 in /usr/local/lib/python3.12/dist-packages (from pydantic<2.12,>=2.11->oumi[gpu]) (0.4.1)\n",
            "Requirement already satisfied: urllib3<3.0,>=1.25.10 in /usr/local/lib/python3.12/dist-packages (from responses<0.26,>=0.25->oumi[gpu]) (2.5.0)\n",
            "Requirement already satisfied: wheel in /usr/local/lib/python3.12/dist-packages (from skypilot<0.8,>=0.7->oumi[gpu]) (0.45.1)\n",
            "Requirement already satisfied: colorama in /usr/local/lib/python3.12/dist-packages (from skypilot<0.8,>=0.7->oumi[gpu]) (0.4.6)\n",
            "Requirement already satisfied: jinja2>=3.0 in /usr/local/lib/python3.12/dist-packages (from skypilot<0.8,>=0.7->oumi[gpu]) (3.1.6)\n",
            "Requirement already satisfied: jsonschema in /usr/local/lib/python3.12/dist-packages (from skypilot<0.8,>=0.7->oumi[gpu]) (4.25.1)\n",
            "Requirement already satisfied: networkx in /usr/local/lib/python3.12/dist-packages (from skypilot<0.8,>=0.7->oumi[gpu]) (3.5)\n",
            "Requirement already satisfied: pendulum in /usr/local/lib/python3.12/dist-packages (from skypilot<0.8,>=0.7->oumi[gpu]) (3.1.0)\n",
            "Requirement already satisfied: PrettyTable>=2.0.0 in /usr/local/lib/python3.12/dist-packages (from skypilot<0.8,>=0.7->oumi[gpu]) (3.16.0)\n",
            "Requirement already satisfied: rich in /usr/local/lib/python3.12/dist-packages (from skypilot<0.8,>=0.7->oumi[gpu]) (13.9.4)\n",
            "Requirement already satisfied: tabulate in /usr/local/lib/python3.12/dist-packages (from skypilot<0.8,>=0.7->oumi[gpu]) (0.9.0)\n",
            "Requirement already satisfied: pulp in /usr/local/lib/python3.12/dist-packages (from skypilot<0.8,>=0.7->oumi[gpu]) (3.3.0)\n",
            "Requirement already satisfied: absl-py>=0.4 in /usr/local/lib/python3.12/dist-packages (from tensorboard<2.21,>=2.20->oumi[gpu]) (1.4.0)\n",
            "Requirement already satisfied: grpcio>=1.48.2 in /usr/local/lib/python3.12/dist-packages (from tensorboard<2.21,>=2.20->oumi[gpu]) (1.75.0)\n",
            "Requirement already satisfied: markdown>=2.6.8 in /usr/local/lib/python3.12/dist-packages (from tensorboard<2.21,>=2.20->oumi[gpu]) (3.9)\n",
            "Requirement already satisfied: setuptools>=41.0.0 in /usr/local/lib/python3.12/dist-packages (from tensorboard<2.21,>=2.20->oumi[gpu]) (79.0.1)\n",
            "Requirement already satisfied: tensorboard-data-server<0.8.0,>=0.7.0 in /usr/local/lib/python3.12/dist-packages (from tensorboard<2.21,>=2.20->oumi[gpu]) (0.7.2)\n",
            "Requirement already satisfied: werkzeug>=1.0.1 in /usr/local/lib/python3.12/dist-packages (from tensorboard<2.21,>=2.20->oumi[gpu]) (3.1.1)\n",
            "Requirement already satisfied: sympy>=1.13.3 in /usr/local/lib/python3.12/dist-packages (from torch<2.9.0,>=2.6->oumi[gpu]) (1.13.3)\n",
            "Requirement already satisfied: nvidia-cuda-nvrtc-cu12==12.6.77 in /usr/local/lib/python3.12/dist-packages (from torch<2.9.0,>=2.6->oumi[gpu]) (12.6.77)\n",
            "Requirement already satisfied: nvidia-cuda-runtime-cu12==12.6.77 in /usr/local/lib/python3.12/dist-packages (from torch<2.9.0,>=2.6->oumi[gpu]) (12.6.77)\n",
            "Requirement already satisfied: nvidia-cuda-cupti-cu12==12.6.80 in /usr/local/lib/python3.12/dist-packages (from torch<2.9.0,>=2.6->oumi[gpu]) (12.6.80)\n",
            "Requirement already satisfied: nvidia-cudnn-cu12==9.10.2.21 in /usr/local/lib/python3.12/dist-packages (from torch<2.9.0,>=2.6->oumi[gpu]) (9.10.2.21)\n",
            "Requirement already satisfied: nvidia-cublas-cu12==12.6.4.1 in /usr/local/lib/python3.12/dist-packages (from torch<2.9.0,>=2.6->oumi[gpu]) (12.6.4.1)\n",
            "Requirement already satisfied: nvidia-cufft-cu12==11.3.0.4 in /usr/local/lib/python3.12/dist-packages (from torch<2.9.0,>=2.6->oumi[gpu]) (11.3.0.4)\n",
            "Requirement already satisfied: nvidia-curand-cu12==10.3.7.77 in /usr/local/lib/python3.12/dist-packages (from torch<2.9.0,>=2.6->oumi[gpu]) (10.3.7.77)\n",
            "Requirement already satisfied: nvidia-cusolver-cu12==11.7.1.2 in /usr/local/lib/python3.12/dist-packages (from torch<2.9.0,>=2.6->oumi[gpu]) (11.7.1.2)\n",
            "Requirement already satisfied: nvidia-cusparse-cu12==12.5.4.2 in /usr/local/lib/python3.12/dist-packages (from torch<2.9.0,>=2.6->oumi[gpu]) (12.5.4.2)\n",
            "Requirement already satisfied: nvidia-cusparselt-cu12==0.7.1 in /usr/local/lib/python3.12/dist-packages (from torch<2.9.0,>=2.6->oumi[gpu]) (0.7.1)\n",
            "Requirement already satisfied: nvidia-nccl-cu12==2.27.3 in /usr/local/lib/python3.12/dist-packages (from torch<2.9.0,>=2.6->oumi[gpu]) (2.27.3)\n",
            "Requirement already satisfied: nvidia-nvtx-cu12==12.6.77 in /usr/local/lib/python3.12/dist-packages (from torch<2.9.0,>=2.6->oumi[gpu]) (12.6.77)\n",
            "Requirement already satisfied: nvidia-nvjitlink-cu12==12.6.85 in /usr/local/lib/python3.12/dist-packages (from torch<2.9.0,>=2.6->oumi[gpu]) (12.6.85)\n",
            "Requirement already satisfied: nvidia-cufile-cu12==1.11.1.6 in /usr/local/lib/python3.12/dist-packages (from torch<2.9.0,>=2.6->oumi[gpu]) (1.11.1.6)\n",
            "Requirement already satisfied: regex!=2019.12.17 in /usr/local/lib/python3.12/dist-packages (from transformers<4.56,>=4.55->oumi[gpu]) (2024.11.6)\n",
            "Requirement already satisfied: tokenizers<0.22,>=0.21 in /usr/local/lib/python3.12/dist-packages (from transformers<4.56,>=4.55->oumi[gpu]) (0.21.4)\n",
            "Requirement already satisfied: codetiming in /usr/local/lib/python3.12/dist-packages (from verl<0.6,>=0.5->oumi[gpu]) (1.4.0)\n",
            "Requirement already satisfied: hydra-core in /usr/local/lib/python3.12/dist-packages (from verl<0.6,>=0.5->oumi[gpu]) (1.3.0)\n",
            "Requirement already satisfied: pylatexenc in /usr/local/lib/python3.12/dist-packages (from verl<0.6,>=0.5->oumi[gpu]) (2.10)\n",
            "Requirement already satisfied: ray>=2.41.0 in /usr/local/lib/python3.12/dist-packages (from ray[default]>=2.41.0->verl<0.6,>=0.5->oumi[gpu]) (2.49.2)\n",
            "Requirement already satisfied: tensordict!=0.9.0,<=0.9.1,>=0.8.0 in /usr/local/lib/python3.12/dist-packages (from verl<0.6,>=0.5->oumi[gpu]) (0.9.1)\n",
            "Requirement already satisfied: sentencepiece in /usr/local/lib/python3.12/dist-packages (from vllm<0.11,>=0.10->oumi[gpu]) (0.2.1)\n",
            "Requirement already satisfied: blake3 in /usr/local/lib/python3.12/dist-packages (from vllm<0.11,>=0.10->oumi[gpu]) (1.0.6)\n",
            "Requirement already satisfied: openai>=1.99.1 in /usr/local/lib/python3.12/dist-packages (from vllm<0.11,>=0.10->oumi[gpu]) (1.108.0)\n",
            "Requirement already satisfied: prometheus_client>=0.18.0 in /usr/local/lib/python3.12/dist-packages (from vllm<0.11,>=0.10->oumi[gpu]) (0.22.1)\n",
            "Requirement already satisfied: prometheus-fastapi-instrumentator>=7.0.0 in /usr/local/lib/python3.12/dist-packages (from vllm<0.11,>=0.10->oumi[gpu]) (7.1.0)\n",
            "Requirement already satisfied: tiktoken>=0.6.0 in /usr/local/lib/python3.12/dist-packages (from vllm<0.11,>=0.10->oumi[gpu]) (0.11.0)\n",
            "Requirement already satisfied: lm-format-enforcer==0.11.3 in /usr/local/lib/python3.12/dist-packages (from vllm<0.11,>=0.10->oumi[gpu]) (0.11.3)\n",
            "Requirement already satisfied: llguidance<0.8.0,>=0.7.11 in /usr/local/lib/python3.12/dist-packages (from vllm<0.11,>=0.10->oumi[gpu]) (0.7.30)\n",
            "Requirement already satisfied: outlines_core==0.2.11 in /usr/local/lib/python3.12/dist-packages (from vllm<0.11,>=0.10->oumi[gpu]) (0.2.11)\n",
            "Requirement already satisfied: diskcache==5.6.3 in /usr/local/lib/python3.12/dist-packages (from vllm<0.11,>=0.10->oumi[gpu]) (5.6.3)\n",
            "Requirement already satisfied: lark==1.2.2 in /usr/local/lib/python3.12/dist-packages (from vllm<0.11,>=0.10->oumi[gpu]) (1.2.2)\n",
            "Requirement already satisfied: xgrammar==0.1.23 in /usr/local/lib/python3.12/dist-packages (from vllm<0.11,>=0.10->oumi[gpu]) (0.1.23)\n",
            "Requirement already satisfied: partial-json-parser in /usr/local/lib/python3.12/dist-packages (from vllm<0.11,>=0.10->oumi[gpu]) (0.2.1.1.post6)\n",
            "Requirement already satisfied: pyzmq>=25.0.0 in /usr/local/lib/python3.12/dist-packages (from vllm<0.11,>=0.10->oumi[gpu]) (26.2.1)\n",
            "Requirement already satisfied: msgspec in /usr/local/lib/python3.12/dist-packages (from vllm<0.11,>=0.10->oumi[gpu]) (0.19.0)\n",
            "Requirement already satisfied: gguf>=0.13.0 in /usr/local/lib/python3.12/dist-packages (from vllm<0.11,>=0.10->oumi[gpu]) (0.17.1)\n",
            "Requirement already satisfied: mistral_common>=1.8.2 in /usr/local/lib/python3.12/dist-packages (from mistral_common[audio,image]>=1.8.2->vllm<0.11,>=0.10->oumi[gpu]) (1.8.5)\n",
            "Requirement already satisfied: opencv-python-headless>=4.11.0 in /usr/local/lib/python3.12/dist-packages (from vllm<0.11,>=0.10->oumi[gpu]) (4.11.0.86)\n",
            "Requirement already satisfied: six>=1.16.0 in /usr/local/lib/python3.12/dist-packages (from vllm<0.11,>=0.10->oumi[gpu]) (1.17.0)\n",
            "Requirement already satisfied: compressed-tensors==0.11.0 in /usr/local/lib/python3.12/dist-packages (from vllm<0.11,>=0.10->oumi[gpu]) (0.11.0)\n",
            "Requirement already satisfied: depyf==0.19.0 in /usr/local/lib/python3.12/dist-packages (from vllm<0.11,>=0.10->oumi[gpu]) (0.19.0)\n",
            "Requirement already satisfied: watchfiles in /usr/local/lib/python3.12/dist-packages (from vllm<0.11,>=0.10->oumi[gpu]) (1.1.0)\n",
            "Requirement already satisfied: python-json-logger in /usr/local/lib/python3.12/dist-packages (from vllm<0.11,>=0.10->oumi[gpu]) (3.3.0)\n",
            "Requirement already satisfied: pybase64 in /usr/local/lib/python3.12/dist-packages (from vllm<0.11,>=0.10->oumi[gpu]) (1.4.2)\n",
            "Requirement already satisfied: cbor2 in /usr/local/lib/python3.12/dist-packages (from vllm<0.11,>=0.10->oumi[gpu]) (5.7.0)\n",
            "Requirement already satisfied: setproctitle in /usr/local/lib/python3.12/dist-packages (from vllm<0.11,>=0.10->oumi[gpu]) (1.3.7)\n",
            "Requirement already satisfied: openai-harmony>=0.0.3 in /usr/local/lib/python3.12/dist-packages (from vllm<0.11,>=0.10->oumi[gpu]) (0.0.4)\n",
            "Requirement already satisfied: numba==0.61.2 in /usr/local/lib/python3.12/dist-packages (from vllm<0.11,>=0.10->oumi[gpu]) (0.61.2)\n",
            "Requirement already satisfied: torchaudio==2.8.0 in /usr/local/lib/python3.12/dist-packages (from vllm<0.11,>=0.10->oumi[gpu]) (2.8.0+cu126)\n",
            "Requirement already satisfied: xformers==0.0.32.post1 in /usr/local/lib/python3.12/dist-packages (from vllm<0.11,>=0.10->oumi[gpu]) (0.0.32.post1)\n",
            "Requirement already satisfied: frozendict in /usr/local/lib/python3.12/dist-packages (from compressed-tensors==0.11.0->vllm<0.11,>=0.10->oumi[gpu]) (2.4.6)\n",
            "Requirement already satisfied: astor in /usr/local/lib/python3.12/dist-packages (from depyf==0.19.0->vllm<0.11,>=0.10->oumi[gpu]) (0.8.1)\n",
            "Requirement already satisfied: interegular>=0.3.2 in /usr/local/lib/python3.12/dist-packages (from lm-format-enforcer==0.11.3->vllm<0.11,>=0.10->oumi[gpu]) (0.3.3)\n",
            "Requirement already satisfied: llvmlite<0.45,>=0.44.0dev0 in /usr/local/lib/python3.12/dist-packages (from numba==0.61.2->vllm<0.11,>=0.10->oumi[gpu]) (0.44.0)\n",
            "Requirement already satisfied: platformdirs in /usr/local/lib/python3.12/dist-packages (from wandb<0.22,>=0.21->oumi[gpu]) (4.4.0)\n",
            "Requirement already satisfied: sentry-sdk>=2.0.0 in /usr/local/lib/python3.12/dist-packages (from wandb<0.22,>=0.21->oumi[gpu]) (2.38.0)\n",
            "Requirement already satisfied: shellingham>=1.3.0 in /usr/local/lib/python3.12/dist-packages (from typer->oumi[gpu]) (1.5.4)\n",
            "Requirement already satisfied: Mako in /usr/local/lib/python3.12/dist-packages (from alembic!=1.10.0,<2->mlflow>=3.1->oumi[gpu]) (1.3.10)\n",
            "Requirement already satisfied: cffi>=1.12 in /usr/local/lib/python3.12/dist-packages (from cryptography<46,>=43.0.0->mlflow>=3.1->oumi[gpu]) (2.0.0)\n",
            "Requirement already satisfied: starlette<0.49.0,>=0.40.0 in /usr/local/lib/python3.12/dist-packages (from fastapi<1->mlflow-skinny==3.4.0->mlflow>=3.1->oumi[gpu]) (0.48.0)\n",
            "Requirement already satisfied: fastapi-cli>=0.0.8 in /usr/local/lib/python3.12/dist-packages (from fastapi-cli[standard]>=0.0.8; extra == \"standard\"->fastapi[standard]>=0.115.0->vllm<0.11,>=0.10->oumi[gpu]) (0.0.13)\n",
            "Requirement already satisfied: httpx>=0.23.0 in /usr/local/lib/python3.12/dist-packages (from fastapi[standard]>=0.115.0->vllm<0.11,>=0.10->oumi[gpu]) (0.28.1)\n",
            "Requirement already satisfied: python-multipart>=0.0.18 in /usr/local/lib/python3.12/dist-packages (from fastapi[standard]>=0.115.0->vllm<0.11,>=0.10->oumi[gpu]) (0.0.20)\n",
            "Requirement already satisfied: email-validator>=2.0.0 in /usr/local/lib/python3.12/dist-packages (from fastapi[standard]>=0.115.0->vllm<0.11,>=0.10->oumi[gpu]) (2.3.0)\n",
            "Requirement already satisfied: authlib>=1.5.2 in /usr/local/lib/python3.12/dist-packages (from fastmcp<3,>=2.0.0->mlflow>=3.1->oumi[gpu]) (1.6.4)\n",
            "Requirement already satisfied: cyclopts>=3.0.0 in /usr/local/lib/python3.12/dist-packages (from fastmcp<3,>=2.0.0->mlflow>=3.1->oumi[gpu]) (3.24.0)\n",
            "Requirement already satisfied: exceptiongroup>=1.2.2 in /usr/local/lib/python3.12/dist-packages (from fastmcp<3,>=2.0.0->mlflow>=3.1->oumi[gpu]) (1.3.0)\n",
            "Requirement already satisfied: mcp<2.0.0,>=1.12.4 in /usr/local/lib/python3.12/dist-packages (from fastmcp<3,>=2.0.0->mlflow>=3.1->oumi[gpu]) (1.14.1)\n",
            "Requirement already satisfied: openapi-core>=0.19.5 in /usr/local/lib/python3.12/dist-packages (from fastmcp<3,>=2.0.0->mlflow>=3.1->oumi[gpu]) (0.19.5)\n",
            "Requirement already satisfied: openapi-pydantic>=0.5.1 in /usr/local/lib/python3.12/dist-packages (from fastmcp<3,>=2.0.0->mlflow>=3.1->oumi[gpu]) (0.5.1)\n",
            "Requirement already satisfied: pyperclip>=1.9.0 in /usr/local/lib/python3.12/dist-packages (from fastmcp<3,>=2.0.0->mlflow>=3.1->oumi[gpu]) (1.10.0)\n",
            "Requirement already satisfied: blinker>=1.9.0 in /usr/local/lib/python3.12/dist-packages (from Flask<4->mlflow>=3.1->oumi[gpu]) (1.9.0)\n",
            "Requirement already satisfied: itsdangerous>=2.2.0 in /usr/local/lib/python3.12/dist-packages (from Flask<4->mlflow>=3.1->oumi[gpu]) (2.2.0)\n",
            "Requirement already satisfied: markupsafe>=2.1.1 in /usr/local/lib/python3.12/dist-packages (from Flask<4->mlflow>=3.1->oumi[gpu]) (3.0.2)\n",
            "Requirement already satisfied: gitdb<5,>=4.0.1 in /usr/local/lib/python3.12/dist-packages (from gitpython<4,>=3.1.9->mlflow-skinny==3.4.0->mlflow>=3.1->oumi[gpu]) (4.0.12)\n",
            "Requirement already satisfied: graphql-core<3.3,>=3.1 in /usr/local/lib/python3.12/dist-packages (from graphene<4->mlflow>=3.1->oumi[gpu]) (3.2.6)\n",
            "Requirement already satisfied: graphql-relay<3.3,>=3.1 in /usr/local/lib/python3.12/dist-packages (from graphene<4->mlflow>=3.1->oumi[gpu]) (3.2.0)\n",
            "Requirement already satisfied: hf-xet<2.0.0,>=1.1.3 in /usr/local/lib/python3.12/dist-packages (from huggingface_hub>=0.21.0->accelerate<2.0,>=1.10.0->oumi[gpu]) (1.1.10)\n",
            "Requirement already satisfied: contourpy>=1.0.1 in /usr/local/lib/python3.12/dist-packages (from matplotlib<4->mlflow>=3.1->oumi[gpu]) (1.3.3)\n",
            "Requirement already satisfied: cycler>=0.10 in /usr/local/lib/python3.12/dist-packages (from matplotlib<4->mlflow>=3.1->oumi[gpu]) (0.12.1)\n",
            "Requirement already satisfied: fonttools>=4.22.0 in /usr/local/lib/python3.12/dist-packages (from matplotlib<4->mlflow>=3.1->oumi[gpu]) (4.60.0)\n",
            "Requirement already satisfied: kiwisolver>=1.3.1 in /usr/local/lib/python3.12/dist-packages (from matplotlib<4->mlflow>=3.1->oumi[gpu]) (1.4.9)\n",
            "Requirement already satisfied: pyparsing>=2.3.1 in /usr/local/lib/python3.12/dist-packages (from matplotlib<4->mlflow>=3.1->oumi[gpu]) (3.2.4)\n",
            "Requirement already satisfied: pydantic-extra-types>=2.10.5 in /usr/local/lib/python3.12/dist-packages (from pydantic-extra-types[pycountry]>=2.10.5->mistral_common>=1.8.2->mistral_common[audio,image]>=1.8.2->vllm<0.11,>=0.10->oumi[gpu]) (2.10.5)\n",
            "Requirement already satisfied: jsonschema-specifications>=2023.03.6 in /usr/local/lib/python3.12/dist-packages (from jsonschema->skypilot<0.8,>=0.7->oumi[gpu]) (2025.9.1)\n",
            "Requirement already satisfied: referencing>=0.28.4 in /usr/local/lib/python3.12/dist-packages (from jsonschema->skypilot<0.8,>=0.7->oumi[gpu]) (0.36.2)\n",
            "Requirement already satisfied: rpds-py>=0.7.1 in /usr/local/lib/python3.12/dist-packages (from jsonschema->skypilot<0.8,>=0.7->oumi[gpu]) (0.27.1)\n",
            "Requirement already satisfied: anyio<5,>=3.5.0 in /usr/local/lib/python3.12/dist-packages (from openai>=1.99.1->vllm<0.11,>=0.10->oumi[gpu]) (4.10.0)\n",
            "Requirement already satisfied: distro<2,>=1.7.0 in /usr/local/lib/python3.12/dist-packages (from openai>=1.99.1->vllm<0.11,>=0.10->oumi[gpu]) (1.9.0)\n",
            "Requirement already satisfied: jiter<1,>=0.4.0 in /usr/local/lib/python3.12/dist-packages (from openai>=1.99.1->vllm<0.11,>=0.10->oumi[gpu]) (0.11.0)\n",
            "Requirement already satisfied: sniffio in /usr/local/lib/python3.12/dist-packages (from openai>=1.99.1->vllm<0.11,>=0.10->oumi[gpu]) (1.3.1)\n",
            "Requirement already satisfied: wcwidth in /usr/local/lib/python3.12/dist-packages (from PrettyTable>=2.0.0->skypilot<0.8,>=0.7->oumi[gpu]) (0.2.13)\n",
            "Requirement already satisfied: cupy-cuda12x in /usr/local/lib/python3.12/dist-packages (from ray[cgraph]>=2.48.0->vllm<0.11,>=0.10->oumi[gpu]) (13.3.0)\n",
            "Requirement already satisfied: aiohttp_cors in /usr/local/lib/python3.12/dist-packages (from ray[default]>=2.41.0->verl<0.6,>=0.5->oumi[gpu]) (0.8.1)\n",
            "Requirement already satisfied: colorful in /usr/local/lib/python3.12/dist-packages (from ray[default]>=2.41.0->verl<0.6,>=0.5->oumi[gpu]) (0.5.7)\n",
            "Requirement already satisfied: py-spy>=0.4.0 in /usr/local/lib/python3.12/dist-packages (from ray[default]>=2.41.0->verl<0.6,>=0.5->oumi[gpu]) (0.4.1)\n",
            "Requirement already satisfied: opencensus in /usr/local/lib/python3.12/dist-packages (from ray[default]>=2.41.0->verl<0.6,>=0.5->oumi[gpu]) (0.11.4)\n",
            "Requirement already satisfied: opentelemetry-exporter-prometheus in /usr/local/lib/python3.12/dist-packages (from ray[default]>=2.41.0->verl<0.6,>=0.5->oumi[gpu]) (0.58b0)\n",
            "Requirement already satisfied: smart_open in /usr/local/lib/python3.12/dist-packages (from ray[default]>=2.41.0->verl<0.6,>=0.5->oumi[gpu]) (7.3.1)\n",
            "Requirement already satisfied: virtualenv!=20.21.1,>=20.0.24 in /usr/local/lib/python3.12/dist-packages (from ray[default]>=2.41.0->verl<0.6,>=0.5->oumi[gpu]) (20.34.0)\n",
            "Requirement already satisfied: charset_normalizer<4,>=2 in /usr/local/lib/python3.12/dist-packages (from requests>=2.32.2->datasets<3.3,>=3.2->oumi[gpu]) (3.4.3)\n",
            "Requirement already satisfied: idna<4,>=2.5 in /usr/local/lib/python3.12/dist-packages (from requests>=2.32.2->datasets<3.3,>=3.2->oumi[gpu]) (3.10)\n",
            "Requirement already satisfied: certifi>=2017.4.17 in /usr/local/lib/python3.12/dist-packages (from requests>=2.32.2->datasets<3.3,>=3.2->oumi[gpu]) (2025.8.3)\n",
            "Requirement already satisfied: markdown-it-py>=2.2.0 in /usr/local/lib/python3.12/dist-packages (from rich->skypilot<0.8,>=0.7->oumi[gpu]) (4.0.0)\n",
            "Requirement already satisfied: pygments<3.0.0,>=2.13.0 in /usr/local/lib/python3.12/dist-packages (from rich->skypilot<0.8,>=0.7->oumi[gpu]) (2.19.2)\n",
            "Requirement already satisfied: nltk in /usr/local/lib/python3.12/dist-packages (from rouge-score>=0.0.4->lm_eval<0.5.0,>=0.4->lm_eval[wandb]<0.5.0,>=0.4->oumi[gpu]) (3.9.1)\n",
            "Requirement already satisfied: portalocker in /usr/local/lib/python3.12/dist-packages (from sacrebleu>=1.5.0->lm_eval<0.5.0,>=0.4->lm_eval[wandb]<0.5.0,>=0.4->oumi[gpu]) (3.2.0)\n",
            "Requirement already satisfied: lxml in /usr/local/lib/python3.12/dist-packages (from sacrebleu>=1.5.0->lm_eval<0.5.0,>=0.4->lm_eval[wandb]<0.5.0,>=0.4->oumi[gpu]) (5.4.0)\n",
            "Requirement already satisfied: joblib>=1.2.0 in /usr/local/lib/python3.12/dist-packages (from scikit-learn>=0.24.1->lm_eval<0.5.0,>=0.4->lm_eval[wandb]<0.5.0,>=0.4->oumi[gpu]) (1.5.2)\n",
            "Requirement already satisfied: threadpoolctl>=3.1.0 in /usr/local/lib/python3.12/dist-packages (from scikit-learn>=0.24.1->lm_eval<0.5.0,>=0.4->lm_eval[wandb]<0.5.0,>=0.4->oumi[gpu]) (3.6.0)\n",
            "Requirement already satisfied: greenlet>=1 in /usr/local/lib/python3.12/dist-packages (from sqlalchemy<3,>=1.4.0->mlflow>=3.1->oumi[gpu]) (3.2.4)\n",
            "Requirement already satisfied: mpmath<1.4,>=1.1.0 in /usr/local/lib/python3.12/dist-packages (from sympy>=1.13.3->torch<2.9.0,>=2.6->oumi[gpu]) (1.3.0)\n",
            "Requirement already satisfied: orjson in /usr/local/lib/python3.12/dist-packages (from tensordict!=0.9.0,<=0.9.1,>=0.8.0->verl<0.6,>=0.5->oumi[gpu]) (3.11.3)\n",
            "Requirement already satisfied: pyvers<0.2.0,>=0.1.0 in /usr/local/lib/python3.12/dist-packages (from tensordict!=0.9.0,<=0.9.1,>=0.8.0->verl<0.6,>=0.5->oumi[gpu]) (0.1.0)\n",
            "Requirement already satisfied: antlr4-python3-runtime==4.9.* in /usr/local/lib/python3.12/dist-packages (from hydra-core->verl<0.6,>=0.5->oumi[gpu]) (4.9.3)\n",
            "Requirement already satisfied: DataProperty<2,>=1.1.0 in /usr/local/lib/python3.12/dist-packages (from pytablewriter->lm_eval<0.5.0,>=0.4->lm_eval[wandb]<0.5.0,>=0.4->oumi[gpu]) (1.1.0)\n",
            "Requirement already satisfied: mbstrdecoder<2,>=1.0.0 in /usr/local/lib/python3.12/dist-packages (from pytablewriter->lm_eval<0.5.0,>=0.4->lm_eval[wandb]<0.5.0,>=0.4->oumi[gpu]) (1.1.4)\n",
            "Requirement already satisfied: pathvalidate<4,>=2.3.0 in /usr/local/lib/python3.12/dist-packages (from pytablewriter->lm_eval<0.5.0,>=0.4->lm_eval[wandb]<0.5.0,>=0.4->oumi[gpu]) (3.3.1)\n",
            "Requirement already satisfied: tabledata<2,>=1.3.1 in /usr/local/lib/python3.12/dist-packages (from pytablewriter->lm_eval<0.5.0,>=0.4->lm_eval[wandb]<0.5.0,>=0.4->oumi[gpu]) (1.3.4)\n",
            "Requirement already satisfied: tcolorpy<1,>=0.0.5 in /usr/local/lib/python3.12/dist-packages (from pytablewriter->lm_eval<0.5.0,>=0.4->lm_eval[wandb]<0.5.0,>=0.4->oumi[gpu]) (0.1.7)\n",
            "Requirement already satisfied: typepy<2,>=1.3.2 in /usr/local/lib/python3.12/dist-packages (from typepy[datetime]<2,>=1.3.2->pytablewriter->lm_eval<0.5.0,>=0.4->lm_eval[wandb]<0.5.0,>=0.4->oumi[gpu]) (1.3.4)\n",
            "Requirement already satisfied: pycparser in /usr/local/lib/python3.12/dist-packages (from cffi>=1.12->cryptography<46,>=43.0.0->mlflow>=3.1->oumi[gpu]) (2.23)\n",
            "Requirement already satisfied: docstring-parser>=0.15 in /usr/local/lib/python3.12/dist-packages (from cyclopts>=3.0.0->fastmcp<3,>=2.0.0->mlflow>=3.1->oumi[gpu]) (0.17.0)\n",
            "Requirement already satisfied: rich-rst<2.0.0,>=1.3.1 in /usr/local/lib/python3.12/dist-packages (from cyclopts>=3.0.0->fastmcp<3,>=2.0.0->mlflow>=3.1->oumi[gpu]) (1.3.1)\n",
            "Requirement already satisfied: google-auth~=2.0 in /usr/local/lib/python3.12/dist-packages (from databricks-sdk<1,>=0.20.0->mlflow-skinny==3.4.0->mlflow>=3.1->oumi[gpu]) (2.38.0)\n",
            "Requirement already satisfied: dnspython>=2.0.0 in /usr/local/lib/python3.12/dist-packages (from email-validator>=2.0.0->fastapi[standard]>=0.115.0->vllm<0.11,>=0.10->oumi[gpu]) (2.8.0)\n",
            "Requirement already satisfied: rich-toolkit>=0.14.8 in /usr/local/lib/python3.12/dist-packages (from fastapi-cli>=0.0.8->fastapi-cli[standard]>=0.0.8; extra == \"standard\"->fastapi[standard]>=0.115.0->vllm<0.11,>=0.10->oumi[gpu]) (0.15.1)\n",
            "Requirement already satisfied: fastapi-cloud-cli>=0.1.1 in /usr/local/lib/python3.12/dist-packages (from fastapi-cli[standard]>=0.0.8; extra == \"standard\"->fastapi[standard]>=0.115.0->vllm<0.11,>=0.10->oumi[gpu]) (0.2.0)\n",
            "Requirement already satisfied: smmap<6,>=3.0.1 in /usr/local/lib/python3.12/dist-packages (from gitdb<5,>=4.0.1->gitpython<4,>=3.1.9->mlflow-skinny==3.4.0->mlflow>=3.1->oumi[gpu]) (5.0.2)\n",
            "Requirement already satisfied: httpcore==1.* in /usr/local/lib/python3.12/dist-packages (from httpx>=0.23.0->fastapi[standard]>=0.115.0->vllm<0.11,>=0.10->oumi[gpu]) (1.0.9)\n",
            "Requirement already satisfied: h11>=0.16 in /usr/local/lib/python3.12/dist-packages (from httpcore==1.*->httpx>=0.23.0->fastapi[standard]>=0.115.0->vllm<0.11,>=0.10->oumi[gpu]) (0.16.0)\n",
            "Requirement already satisfied: zipp>=3.20 in /usr/local/lib/python3.12/dist-packages (from importlib_metadata!=4.7.0,<9,>=3.7.0->mlflow-skinny==3.4.0->mlflow>=3.1->oumi[gpu]) (3.23.0)\n",
            "Requirement already satisfied: mdurl~=0.1 in /usr/local/lib/python3.12/dist-packages (from markdown-it-py>=2.2.0->rich->skypilot<0.8,>=0.7->oumi[gpu]) (0.1.2)\n",
            "Requirement already satisfied: chardet<6,>=3.0.4 in /usr/local/lib/python3.12/dist-packages (from mbstrdecoder<2,>=1.0.0->pytablewriter->lm_eval<0.5.0,>=0.4->lm_eval[wandb]<0.5.0,>=0.4->oumi[gpu]) (5.2.0)\n",
            "Requirement already satisfied: httpx-sse>=0.4 in /usr/local/lib/python3.12/dist-packages (from mcp<2.0.0,>=1.12.4->fastmcp<3,>=2.0.0->mlflow>=3.1->oumi[gpu]) (0.4.1)\n",
            "Requirement already satisfied: pydantic-settings>=2.5.2 in /usr/local/lib/python3.12/dist-packages (from mcp<2.0.0,>=1.12.4->fastmcp<3,>=2.0.0->mlflow>=3.1->oumi[gpu]) (2.10.1)\n",
            "Requirement already satisfied: sse-starlette>=1.6.1 in /usr/local/lib/python3.12/dist-packages (from mcp<2.0.0,>=1.12.4->fastmcp<3,>=2.0.0->mlflow>=3.1->oumi[gpu]) (3.0.2)\n",
            "Requirement already satisfied: isodate in /usr/local/lib/python3.12/dist-packages (from openapi-core>=0.19.5->fastmcp<3,>=2.0.0->mlflow>=3.1->oumi[gpu]) (0.7.2)\n",
            "Requirement already satisfied: jsonschema-path<0.4.0,>=0.3.1 in /usr/local/lib/python3.12/dist-packages (from openapi-core>=0.19.5->fastmcp<3,>=2.0.0->mlflow>=3.1->oumi[gpu]) (0.3.4)\n",
            "Requirement already satisfied: openapi-schema-validator<0.7.0,>=0.6.0 in /usr/local/lib/python3.12/dist-packages (from openapi-core>=0.19.5->fastmcp<3,>=2.0.0->mlflow>=3.1->oumi[gpu]) (0.6.3)\n",
            "Requirement already satisfied: openapi-spec-validator<0.8.0,>=0.7.1 in /usr/local/lib/python3.12/dist-packages (from openapi-core>=0.19.5->fastmcp<3,>=2.0.0->mlflow>=3.1->oumi[gpu]) (0.7.2)\n",
            "Requirement already satisfied: parse in /usr/local/lib/python3.12/dist-packages (from openapi-core>=0.19.5->fastmcp<3,>=2.0.0->mlflow>=3.1->oumi[gpu]) (1.20.2)\n",
            "Requirement already satisfied: opentelemetry-semantic-conventions==0.58b0 in /usr/local/lib/python3.12/dist-packages (from opentelemetry-sdk<3,>=1.9.0->mlflow-skinny==3.4.0->mlflow>=3.1->oumi[gpu]) (0.58b0)\n",
            "Requirement already satisfied: pycountry>=23 in /usr/local/lib/python3.12/dist-packages (from pydantic-extra-types[pycountry]>=2.10.5->mistral_common>=1.8.2->mistral_common[audio,image]>=1.8.2->vllm<0.11,>=0.10->oumi[gpu]) (24.6.1)\n",
            "Requirement already satisfied: httptools>=0.6.3 in /usr/local/lib/python3.12/dist-packages (from uvicorn[standard]>=0.12.0; extra == \"standard\"->fastapi[standard]>=0.115.0->vllm<0.11,>=0.10->oumi[gpu]) (0.6.4)\n",
            "Requirement already satisfied: uvloop>=0.15.1 in /usr/local/lib/python3.12/dist-packages (from uvicorn[standard]>=0.12.0; extra == \"standard\"->fastapi[standard]>=0.115.0->vllm<0.11,>=0.10->oumi[gpu]) (0.21.0)\n",
            "Requirement already satisfied: websockets>=10.4 in /usr/local/lib/python3.12/dist-packages (from uvicorn[standard]>=0.12.0; extra == \"standard\"->fastapi[standard]>=0.115.0->vllm<0.11,>=0.10->oumi[gpu]) (15.0.1)\n",
            "Requirement already satisfied: distlib<1,>=0.3.7 in /usr/local/lib/python3.12/dist-packages (from virtualenv!=20.21.1,>=20.0.24->ray[default]>=2.41.0->verl<0.6,>=0.5->oumi[gpu]) (0.4.0)\n",
            "Requirement already satisfied: fastrlock>=0.5 in /usr/local/lib/python3.12/dist-packages (from cupy-cuda12x->ray[cgraph]>=2.48.0->vllm<0.11,>=0.10->oumi[gpu]) (0.8.3)\n",
            "Requirement already satisfied: soundfile>=0.12.1 in /usr/local/lib/python3.12/dist-packages (from mistral_common>=1.8.2->mistral_common[audio,image]>=1.8.2->vllm<0.11,>=0.10->oumi[gpu]) (0.13.1)\n",
            "Requirement already satisfied: soxr>=0.5.0 in /usr/local/lib/python3.12/dist-packages (from mistral_common>=1.8.2->mistral_common[audio,image]>=1.8.2->vllm<0.11,>=0.10->oumi[gpu]) (1.0.0)\n",
            "Requirement already satisfied: opencensus-context>=0.1.3 in /usr/local/lib/python3.12/dist-packages (from opencensus->ray[default]>=2.41.0->verl<0.6,>=0.5->oumi[gpu]) (0.1.3)\n",
            "Requirement already satisfied: google-api-core<3.0.0,>=1.0.0 in /usr/local/lib/python3.12/dist-packages (from opencensus->ray[default]>=2.41.0->verl<0.6,>=0.5->oumi[gpu]) (2.25.1)\n",
            "Requirement already satisfied: wrapt in /usr/local/lib/python3.12/dist-packages (from smart_open->ray[default]>=2.41.0->verl<0.6,>=0.5->oumi[gpu]) (1.17.3)\n",
            "Requirement already satisfied: rignore>=0.5.1 in /usr/local/lib/python3.12/dist-packages (from fastapi-cloud-cli>=0.1.1->fastapi-cli[standard]>=0.0.8; extra == \"standard\"->fastapi[standard]>=0.115.0->vllm<0.11,>=0.10->oumi[gpu]) (0.6.4)\n",
            "Requirement already satisfied: googleapis-common-protos<2.0.0,>=1.56.2 in /usr/local/lib/python3.12/dist-packages (from google-api-core<3.0.0,>=1.0.0->opencensus->ray[default]>=2.41.0->verl<0.6,>=0.5->oumi[gpu]) (1.70.0)\n",
            "Requirement already satisfied: proto-plus<2.0.0,>=1.22.3 in /usr/local/lib/python3.12/dist-packages (from google-api-core<3.0.0,>=1.0.0->opencensus->ray[default]>=2.41.0->verl<0.6,>=0.5->oumi[gpu]) (1.26.1)\n",
            "Requirement already satisfied: pyasn1-modules>=0.2.1 in /usr/local/lib/python3.12/dist-packages (from google-auth~=2.0->databricks-sdk<1,>=0.20.0->mlflow-skinny==3.4.0->mlflow>=3.1->oumi[gpu]) (0.4.2)\n",
            "Requirement already satisfied: rsa<5,>=3.1.4 in /usr/local/lib/python3.12/dist-packages (from google-auth~=2.0->databricks-sdk<1,>=0.20.0->mlflow-skinny==3.4.0->mlflow>=3.1->oumi[gpu]) (4.9.1)\n",
            "Requirement already satisfied: pathable<0.5.0,>=0.4.1 in /usr/local/lib/python3.12/dist-packages (from jsonschema-path<0.4.0,>=0.3.1->openapi-core>=0.19.5->fastmcp<3,>=2.0.0->mlflow>=3.1->oumi[gpu]) (0.4.4)\n",
            "Requirement already satisfied: rfc3339-validator in /usr/local/lib/python3.12/dist-packages (from openapi-schema-validator<0.7.0,>=0.6.0->openapi-core>=0.19.5->fastmcp<3,>=2.0.0->mlflow>=3.1->oumi[gpu]) (0.1.4)\n",
            "Requirement already satisfied: lazy-object-proxy<2.0.0,>=1.7.1 in /usr/local/lib/python3.12/dist-packages (from openapi-spec-validator<0.8.0,>=0.7.1->openapi-core>=0.19.5->fastmcp<3,>=2.0.0->mlflow>=3.1->oumi[gpu]) (1.12.0)\n",
            "Requirement already satisfied: docutils in /usr/local/lib/python3.12/dist-packages (from rich-rst<2.0.0,>=1.3.1->cyclopts>=3.0.0->fastmcp<3,>=2.0.0->mlflow>=3.1->oumi[gpu]) (0.21.2)\n",
            "Requirement already satisfied: pyasn1<0.7.0,>=0.6.1 in /usr/local/lib/python3.12/dist-packages (from pyasn1-modules>=0.2.1->google-auth~=2.0->databricks-sdk<1,>=0.20.0->mlflow-skinny==3.4.0->mlflow>=3.1->oumi[gpu]) (0.6.1)\n"
          ]
        }
      ],
      "source": [
        "!pip install oumi[gpu]"
      ]
    },
    {
      "cell_type": "code",
      "source": [
        "!pip install --upgrade \"pyarrow<20\""
      ],
      "metadata": {
        "colab": {
          "base_uri": "https://localhost:8080/"
        },
        "id": "M0RaQbcQs1sq",
        "outputId": "fb77b1a2-0bfb-4d87-f57d-68cfacfa9e83"
      },
      "execution_count": null,
      "outputs": [
        {
          "output_type": "stream",
          "name": "stdout",
          "text": [
            "Requirement already satisfied: pyarrow<20 in /usr/local/lib/python3.12/dist-packages (19.0.1)\n"
          ]
        }
      ]
    },
    {
      "cell_type": "code",
      "source": [],
      "metadata": {
        "id": "ZTqIusios1cK"
      },
      "execution_count": null,
      "outputs": []
    },
    {
      "cell_type": "code",
      "source": [
        "#MAKING A DIR TO SAVE THE YAML\n",
        "import os\n",
        "from pathlib import Path\n",
        "\n",
        "tutorial_dir = \"tour_tutorial\"\n",
        "\n",
        "Path(tutorial_dir).mkdir(parents=True, exist_ok=True)\n",
        "os.environ[\"TOKENIZERS_PARALLELISM\"] = \"false\"  # Disable warnings from HF."
      ],
      "metadata": {
        "id": "sbZ56JXsqSFl"
      },
      "execution_count": null,
      "outputs": []
    },
    {
      "cell_type": "code",
      "source": [
        "yaml_content = f\"\"\"\n",
        "# Qwen2-VL-2B-Instruct — Working Single-Image-Per-Sample Solution\n",
        "\n",
        "model:\n",
        "  model_name: \"Qwen/Qwen2-VL-2B-Instruct\"\n",
        "  torch_dtype_str: \"bfloat16\"\n",
        "  model_max_length: 4096\n",
        "  trust_remote_code: true\n",
        "  attn_implementation: \"sdpa\"\n",
        "  chat_template: \"qwen2-vl-instruct\"\n",
        "  freeze_layers:\n",
        "    - \"visual\"\n",
        "\n",
        "data:\n",
        "  train:\n",
        "    collator_name: \"vision_language_with_padding\"\n",
        "    use_torchdata: false\n",
        "    datasets:\n",
        "      - dataset_name: \"vl_sft\"\n",
        "        split: \"train\"\n",
        "        shuffle: true\n",
        "        seed: 42\n",
        "        transform_num_workers: \"auto\"\n",
        "        dataset_path: \"/content/drive/MyDrive/newdb/metadata_workaround.jsonl\"\n",
        "        dataset_kwargs:\n",
        "          processor_name: \"Qwen/Qwen2-VL-2B-Instruct\"\n",
        "          # trust_remote_code: true\n",
        "          # ignore_verifications: true\n",
        "          processor_kwargs:\n",
        "            do_resize: true\n",
        "            do_normalize: true\n",
        "            min_pixels: 50176\n",
        "            max_pixels: 1638400\n",
        "\n",
        "training:\n",
        "  output_dir: \"output/qwen2_vl_2b_sft_working\"\n",
        "  trainer_type: \"TRL_SFT\"\n",
        "  enable_gradient_checkpointing: true\n",
        "  per_device_train_batch_size: 1\n",
        "  gradient_accumulation_steps: 2\n",
        "  max_steps: 1\n",
        "\n",
        "  gradient_checkpointing_kwargs:\n",
        "    use_reentrant: false\n",
        "  max_grad_norm: 0.5\n",
        "  ddp_find_unused_parameters: false\n",
        "  empty_device_cache_steps: 1\n",
        "  compile: false\n",
        "\n",
        "  optimizer: \"adamw_torch_fused\"\n",
        "  learning_rate: 2e-5\n",
        "  warmup_ratio: 0.03\n",
        "  weight_decay: 0.1\n",
        "  lr_scheduler_type: \"cosine\"\n",
        "\n",
        "  logging_steps: 5\n",
        "  save_steps: 50\n",
        "  dataloader_main_process_only: false\n",
        "  dataloader_num_workers: 2\n",
        "  dataloader_prefetch_factor: 8\n",
        "  include_performance_metrics: true\n",
        "  log_model_summary: false\n",
        "  enable_wandb: true\n",
        "\n",
        "\"\"\"\n",
        "\n",
        "with open(f\"{tutorial_dir}/train.yaml\", \"w\") as f:\n",
        "    f.write(yaml_content)\n"
      ],
      "metadata": {
        "id": "DG9I_JVdqVI5"
      },
      "execution_count": null,
      "outputs": []
    },
    {
      "cell_type": "code",
      "source": [
        "from oumi.core.configs import TrainingConfig\n",
        "from oumi.train import train\n",
        "\n",
        "config = TrainingConfig.from_yaml(str(Path(tutorial_dir) / \"train.yaml\"))\n",
        "\n",
        "train(config)"
      ],
      "metadata": {
        "colab": {
          "base_uri": "https://localhost:8080/",
          "height": 1000,
          "referenced_widgets": [
            "8afadcfd095449a9aa2f7db4107b29fb",
            "09d12483433242d5b3a38c6cc75d0b50",
            "a2ec8909e9cd48feab319dbc649095c5",
            "d5f41dd19ecc4394b6096f3643b65364",
            "00deb6032ad34921af4b256f24d6f98c",
            "97dceb9e1f3f4cfa89b195a466076783",
            "614c8bf10442412cb58c169bf66c1914",
            "9d3d056074f84931af5e7eeeaaa937df",
            "11d4722649b546fdbf99bca0ef73857a",
            "fae0d091256441c683adf0863cf1ea00",
            "093de13b91d94a108da527b0681eb73b"
          ]
        },
        "id": "KLJirvOQqe8U",
        "outputId": "b7b0032e-ac02-4371-d906-179dd20777e5"
      },
      "execution_count": null,
      "outputs": [
        {
          "output_type": "error",
          "ename": "AttributeError",
          "evalue": "'MessageFactory' object has no attribute 'GetPrototype'",
          "traceback": [
            "\u001b[0;31m---------------------------------------------------------------------------\u001b[0m",
            "\u001b[0;31mAttributeError\u001b[0m                            Traceback (most recent call last)",
            "\u001b[0;31mAttributeError\u001b[0m: 'MessageFactory' object has no attribute 'GetPrototype'"
          ]
        },
        {
          "output_type": "error",
          "ename": "AttributeError",
          "evalue": "'MessageFactory' object has no attribute 'GetPrototype'",
          "traceback": [
            "\u001b[0;31m---------------------------------------------------------------------------\u001b[0m",
            "\u001b[0;31mAttributeError\u001b[0m                            Traceback (most recent call last)",
            "\u001b[0;31mAttributeError\u001b[0m: 'MessageFactory' object has no attribute 'GetPrototype'"
          ]
        },
        {
          "output_type": "error",
          "ename": "AttributeError",
          "evalue": "'MessageFactory' object has no attribute 'GetPrototype'",
          "traceback": [
            "\u001b[0;31m---------------------------------------------------------------------------\u001b[0m",
            "\u001b[0;31mAttributeError\u001b[0m                            Traceback (most recent call last)",
            "\u001b[0;31mAttributeError\u001b[0m: 'MessageFactory' object has no attribute 'GetPrototype'"
          ]
        },
        {
          "output_type": "stream",
          "name": "stdout",
          "text": [
            "[2025-09-24 22:45:34,499][oumi][rank0][pid:18974][MainThread][INFO]][torch_utils.py:80] Torch version: 2.8.0+cu126. NumPy version: 1.26.4\n",
            "[2025-09-24 22:45:34,500][oumi][rank0][pid:18974][MainThread][INFO]][torch_utils.py:88] CUDA version: 12.6 \n",
            "[2025-09-24 22:45:34,503][oumi][rank0][pid:18974][MainThread][INFO]][torch_utils.py:91] CuDNN version: 91.0.2\n",
            "[2025-09-24 22:45:34,716][oumi][rank0][pid:18974][MainThread][INFO]][torch_utils.py:124] CPU cores: 2 CUDA devices: 1\n",
            "device(0)='Tesla T4' Capability: (7, 5) Memory: [Total: 14.74GiB Free: 14.64GiB Allocated: 0.0GiB Cached: 0.0GiB]\n",
            "[2025-09-24 22:45:34,721][oumi][rank0][pid:18974][MainThread][INFO]][train.py:153] Oumi version: 0.4.0\n",
            "[2025-09-24 22:45:34,785][oumi][rank0][pid:18974][MainThread][INFO]][train.py:306] Training config saved to output/qwen2_vl_2b_sft_working/telemetry/training_config.yaml\n"
          ]
        },
        {
          "output_type": "stream",
          "name": "stderr",
          "text": [
            "The image processor of type `Qwen2VLImageProcessor` is now loaded as a fast processor by default, even if the model checkpoint was saved with a slow processor. This is a breaking change and may produce slightly different outputs. To continue using the slow processor, instantiate this class with `use_fast=False`. Note that this behavior will be extended to all models in a future release.\n",
            "You have video processor config saved in `preprocessor.json` file which is deprecated. Video processor configs should be saved in their own `video_preprocessor.json` file. You can rename the file or load and save the processor back which renames it automatically. Loading from `preprocessor.json` will be removed in v5.0.\n"
          ]
        },
        {
          "output_type": "stream",
          "name": "stdout",
          "text": [
            "[2025-09-24 22:45:38,339][oumi][rank0][pid:18974][MainThread][INFO]][base_map_dataset.py:91] Creating map dataset (type: VLJsonlinesDataset)... dataset_name: 'vl_sft'\n",
            "[2025-09-24 22:45:42,027][oumi][rank0][pid:18974][MainThread][INFO]][base_map_dataset.py:235] The `pixel_values` feature has this inferred type: Array2D(shape=(5476, 1176), dtype='float32', id=None)\n",
            "[2025-09-24 22:45:42,048][oumi][rank0][pid:18974][MainThread][INFO]][base_map_dataset.py:312] VLJsonlinesDataset: features=dict_keys(['input_ids', 'attention_mask', 'pixel_values', 'image_grid_thw', 'labels'])\n",
            "[2025-09-24 22:45:42,172][oumi][rank0][pid:18974][MainThread][INFO]][base_map_dataset.py:376] Finished transforming dataset (VLJsonlinesDataset)! Speed: 48.88 examples/sec. Examples: 6. Duration: 0.1 sec. Transform workers: 2.\n",
            "[2025-09-24 22:45:42,182][oumi][rank0][pid:18974][MainThread][INFO]][models.py:260] Building model using device_map: auto (DeviceRankInfo(world_size=1, rank=0, local_world_size=1, local_rank=0))...\n",
            "[2025-09-24 22:45:42,252][oumi][rank0][pid:18974][MainThread][INFO]][models.py:336] Using model class: <class 'transformers.models.auto.modeling_auto.AutoModelForVision2Seq'> to instantiate model.\n"
          ]
        },
        {
          "output_type": "stream",
          "name": "stderr",
          "text": [
            "/usr/local/lib/python3.12/dist-packages/transformers/models/auto/modeling_auto.py:2199: FutureWarning: The class `AutoModelForVision2Seq` is deprecated and will be removed in v5.0. Please use `AutoModelForImageTextToText` instead.\n",
            "  warnings.warn(\n"
          ]
        },
        {
          "output_type": "display_data",
          "data": {
            "text/plain": [
              "Loading checkpoint shards:   0%|          | 0/2 [00:00<?, ?it/s]"
            ],
            "application/vnd.jupyter.widget-view+json": {
              "version_major": 2,
              "version_minor": 0,
              "model_id": "8afadcfd095449a9aa2f7db4107b29fb"
            }
          },
          "metadata": {}
        },
        {
          "output_type": "stream",
          "name": "stdout",
          "text": [
            "[2025-09-24 22:45:44,726][oumi][rank0][pid:18974][MainThread][INFO]][torch_utils.py:753] Freezing layer 'visual'...\n",
            "[2025-09-24 22:45:44,729][oumi][rank0][pid:18974][MainThread][WARNING]][models.py:111] 1 layer(s) frozen based on the config: ['visual'].\n",
            "[2025-09-24 22:45:44,734][oumi][rank0][pid:18974][MainThread][INFO]][torch_utils.py:288] \n",
            "Model Parameters Summary:\n",
            "🔢 Total     parameters: 2,208,985,600\n",
            "🔗 Embedding parameters: 233,373,696\n",
            "🎯 Trainable parameters: 1,543,714,304\n",
            "🔒 Frozen    parameters: 665,271,296 (30.12%)\n",
            "\n",
            "[2025-09-24 22:45:44,989][oumi][rank0][pid:18974][MainThread][INFO]][train.py:468] Skipping dataset preparation for TRL_SFT trainer since the dataset is already processed.\n",
            "[2025-09-24 22:45:45,640][oumi][rank0][pid:18974][MainThread][INFO]][torch_profiler_utils.py:164] PROF: Torch Profiler disabled!\n",
            "[2025-09-24 22:45:45,641][oumi][rank0][pid:18974][MainThread][WARNING]][callbacks.py:72] MFU logging requires packed datasets. Skipping MFU callbacks.\n",
            "[2025-09-24 22:45:46,506][oumi][rank0][pid:18974][MainThread][INFO]][device_utils.py:343] GPU Metrics Before Training: GPU runtime info: NVidiaGpuRuntimeInfo(device_index=0, device_count=1, used_memory_mb=4635.0, temperature=65, fan_speed=None, fan_speeds=None, power_usage_watts=30.791, power_limit_watts=70.0, gpu_utilization=0, memory_utilization=0, performance_state=0, clock_speed_graphics=585, clock_speed_sm=585, clock_speed_memory=5000).\n",
            "[2025-09-24 22:45:46,507][oumi][rank0][pid:18974][MainThread][INFO]][train.py:540] Training init time: 12.009s\n",
            "[2025-09-24 22:45:46,508][oumi][rank0][pid:18974][MainThread][INFO]][train.py:541] Starting training... (TrainerType.TRL_SFT, transformers: 4.55.4)\n"
          ]
        },
        {
          "output_type": "stream",
          "name": "stderr",
          "text": [
            "\u001b[34m\u001b[1mwandb\u001b[0m: Currently logged in as: \u001b[33mtusharthokdar10\u001b[0m (\u001b[33mtusharthokdar10-haldia-institute-of-dental-sciences-and-\u001b[0m) to \u001b[32mhttps://api.wandb.ai\u001b[0m. Use \u001b[1m`wandb login --relogin`\u001b[0m to force relogin\n"
          ]
        },
        {
          "output_type": "display_data",
          "data": {
            "text/plain": [
              "<IPython.core.display.HTML object>"
            ],
            "text/html": []
          },
          "metadata": {}
        },
        {
          "output_type": "display_data",
          "data": {
            "text/plain": [
              "<IPython.core.display.HTML object>"
            ],
            "text/html": [
              "Tracking run with wandb version 0.21.4"
            ]
          },
          "metadata": {}
        },
        {
          "output_type": "display_data",
          "data": {
            "text/plain": [
              "<IPython.core.display.HTML object>"
            ],
            "text/html": [
              "Run data is saved locally in <code>/content/wandb/run-20250924_224551-9tt13n8j</code>"
            ]
          },
          "metadata": {}
        },
        {
          "output_type": "display_data",
          "data": {
            "text/plain": [
              "<IPython.core.display.HTML object>"
            ],
            "text/html": [
              "Syncing run <strong><a href='https://wandb.ai/tusharthokdar10-haldia-institute-of-dental-sciences-and-/huggingface/runs/9tt13n8j' target=\"_blank\">daily-cosmos-3</a></strong> to <a href='https://wandb.ai/tusharthokdar10-haldia-institute-of-dental-sciences-and-/huggingface' target=\"_blank\">Weights & Biases</a> (<a href='https://wandb.me/developer-guide' target=\"_blank\">docs</a>)<br>"
            ]
          },
          "metadata": {}
        },
        {
          "output_type": "display_data",
          "data": {
            "text/plain": [
              "<IPython.core.display.HTML object>"
            ],
            "text/html": [
              " View project at <a href='https://wandb.ai/tusharthokdar10-haldia-institute-of-dental-sciences-and-/huggingface' target=\"_blank\">https://wandb.ai/tusharthokdar10-haldia-institute-of-dental-sciences-and-/huggingface</a>"
            ]
          },
          "metadata": {}
        },
        {
          "output_type": "display_data",
          "data": {
            "text/plain": [
              "<IPython.core.display.HTML object>"
            ],
            "text/html": [
              " View run at <a href='https://wandb.ai/tusharthokdar10-haldia-institute-of-dental-sciences-and-/huggingface/runs/9tt13n8j' target=\"_blank\">https://wandb.ai/tusharthokdar10-haldia-institute-of-dental-sciences-and-/huggingface/runs/9tt13n8j</a>"
            ]
          },
          "metadata": {}
        },
        {
          "output_type": "stream",
          "name": "stderr",
          "text": [
            "\u001b[34m\u001b[1mwandb\u001b[0m: Detected [huggingface_hub.inference, openai] in use.\n",
            "\u001b[34m\u001b[1mwandb\u001b[0m: Use W&B Weave for improved LLM call tracing. Install Weave with `pip install weave` then add `import weave` to the top of your script.\n",
            "\u001b[34m\u001b[1mwandb\u001b[0m: For more information, check out the docs at: https://weave-docs.wandb.ai/\n",
            "`loss_type=None` was set in the config but it is unrecognised.Using the default loss: `ForCausalLMLoss`.\n"
          ]
        },
        {
          "output_type": "display_data",
          "data": {
            "text/plain": [
              "<IPython.core.display.HTML object>"
            ],
            "text/html": [
              "\n",
              "    <div>\n",
              "      \n",
              "      <progress value='1' max='1' style='width:300px; height:20px; vertical-align: middle;'></progress>\n",
              "      [1/1 01:55, Epoch 0/1]\n",
              "    </div>\n",
              "    <table border=\"1\" class=\"dataframe\">\n",
              "  <thead>\n",
              " <tr style=\"text-align: left;\">\n",
              "      <th>Step</th>\n",
              "      <th>Training Loss</th>\n",
              "    </tr>\n",
              "  </thead>\n",
              "  <tbody>\n",
              "  </tbody>\n",
              "</table><p>"
            ]
          },
          "metadata": {}
        },
        {
          "output_type": "stream",
          "name": "stdout",
          "text": [
            "[2025-09-24 22:48:24,522][oumi][rank0][pid:18974][MainThread][INFO]][device_utils.py:343] On epoch end: GPU runtime info: NVidiaGpuRuntimeInfo(device_index=0, device_count=1, used_memory_mb=13859.0, temperature=74, fan_speed=None, fan_speeds=None, power_usage_watts=32.92, power_limit_watts=70.0, gpu_utilization=2, memory_utilization=0, performance_state=0, clock_speed_graphics=585, clock_speed_sm=585, clock_speed_memory=5000).\n",
            "[2025-09-24 22:48:24,677][oumi][rank0][pid:18974][MainThread][INFO]][train.py:548] Training is Complete.\n",
            "[2025-09-24 22:48:24,687][oumi][rank0][pid:18974][MainThread][INFO]][device_utils.py:343] GPU Metrics After Training: GPU runtime info: NVidiaGpuRuntimeInfo(device_index=0, device_count=1, used_memory_mb=13859.0, temperature=74, fan_speed=None, fan_speeds=None, power_usage_watts=32.92, power_limit_watts=70.0, gpu_utilization=2, memory_utilization=0, performance_state=0, clock_speed_graphics=585, clock_speed_sm=585, clock_speed_memory=5000).\n",
            "[2025-09-24 22:48:24,750][oumi][rank0][pid:18974][MainThread][INFO]][torch_utils.py:135] Peak GPU memory usage: 12.87 GB\n",
            "[2025-09-24 22:48:24,754][oumi][rank0][pid:18974][MainThread][INFO]][train.py:555] Saving final state...\n",
            "[2025-09-24 22:48:24,758][oumi][rank0][pid:18974][MainThread][INFO]][train.py:560] Saving final model...\n",
            "[2025-09-24 22:49:00,232][oumi][rank0][pid:18974][MainThread][INFO]][hf_trainer.py:127] Model has been saved at output/qwen2_vl_2b_sft_working\n",
            "[2025-09-24 22:49:01,276][oumi][rank0][pid:18974][MainThread][INFO]][hf_trainer.py:131] Processor config has been saved at output/qwen2_vl_2b_sft_working\n",
            "[2025-09-24 22:49:01,278][oumi][rank0][pid:18974][MainThread][INFO]][train.py:219] \n",
            "\n",
            "» We're always looking for feedback. What's one thing we can improve? https://oumi.ai/feedback\n"
          ]
        }
      ]
    },
    {
      "cell_type": "code",
      "source": [
        "import torch\n",
        "from transformers import Qwen2VLForConditionalGeneration, AutoTokenizer, AutoProcessor\n",
        "from PIL import Image\n",
        "\n",
        "# Load your fine-tuned model\n",
        "model_path = \"output/qwen2_vl_2b_sft_working\"  # Your training output directory\n",
        "model = Qwen2VLForConditionalGeneration.from_pretrained(\n",
        "    model_path,\n",
        "    torch_dtype=torch.bfloat16,\n",
        "    device_map=\"auto\",\n",
        "    trust_remote_code=True\n",
        ")\n",
        "\n",
        "# Load processor and tokenizer\n",
        "processor = AutoProcessor.from_pretrained(\"Qwen/Qwen2-VL-2B-Instruct\", trust_remote_code=True)\n",
        "tokenizer = AutoTokenizer.from_pretrained(\"Qwen/Qwen2-VL-2B-Instruct\", trust_remote_code=True)\n",
        "\n",
        "def test_single_image(image_path, question):\n",
        "    \"\"\"Test with a single image\"\"\"\n",
        "    # Load image\n",
        "    image = Image.open(image_path)\n",
        "\n",
        "    # Prepare the conversation\n",
        "    messages = [\n",
        "        {\n",
        "            \"role\": \"user\",\n",
        "            \"content\": [\n",
        "                {\"type\": \"image\", \"image\": image},\n",
        "                {\"type\": \"text\", \"text\": question}\n",
        "            ]\n",
        "        }\n",
        "    ]\n",
        "\n",
        "    # Apply chat template\n",
        "    text = processor.apply_chat_template(messages, tokenize=False, add_generation_prompt=True)\n",
        "\n",
        "    # Process inputs\n",
        "    inputs = processor(text=[text], images=[image], return_tensors=\"pt\")\n",
        "    inputs = inputs.to(model.device)\n",
        "\n",
        "    # Generate response\n",
        "    with torch.no_grad():\n",
        "        generated_ids = model.generate(\n",
        "            **inputs,\n",
        "            max_new_tokens=512,\n",
        "            temperature=0.1,\n",
        "            do_sample=True,\n",
        "            pad_token_id=tokenizer.eos_token_id\n",
        "        )\n",
        "\n",
        "    # Decode response\n",
        "    generated_text = tokenizer.decode(generated_ids[0], skip_special_tokens=True)\n",
        "\n",
        "    # Extract just the assistant's response\n",
        "    assistant_response = generated_text.split(\"assistant\\n\")[-1]\n",
        "    return assistant_response\n",
        "\n",
        "def test_disaster_assessment(pre_image_path, post_image_path):\n",
        "    \"\"\"Test disaster assessment with before/after images\"\"\"\n",
        "    # Test pre-image first\n",
        "    pre_response = test_single_image(\n",
        "        pre_image_path,\n",
        "        \"This is a pre-disaster satellite image. I will show you the post-disaster image next for comparison.\"\n",
        "    )\n",
        "    print(\"Pre-disaster response:\", pre_response)\n",
        "    print(\"\\n\" + \"=\"*50 + \"\\n\")\n",
        "\n",
        "    # Test post-image with comparison task\n",
        "    post_response = test_single_image(\n",
        "        post_image_path,\n",
        "        \"This is the post-disaster satellite image. Compare with the previous pre-disaster image and provide a comprehensive building damage assessment report.\"\n",
        "    )\n",
        "    print(\"Disaster assessment:\", post_response)\n",
        "    return post_response\n",
        "\n",
        "# Test your model\n",
        "print(\"Testing fine-tuned Qwen2-VL model...\")\n",
        "\n",
        "# Test with your training images\n",
        "result = test_disaster_assessment(\n",
        "    \"/content/midwest-flooding_00000028_pre_disaster.png\",\n",
        "    \"/content/midwest-flooding_00000028_post_disaster.png\"\n",
        ")\n"
      ],
      "metadata": {
        "colab": {
          "base_uri": "https://localhost:8080/",
          "height": 1000
        },
        "id": "4moCvGKJ7DdC",
        "outputId": "9fc0cd39-f144-4bbb-b09c-765508baeec8"
      },
      "execution_count": null,
      "outputs": [
        {
          "output_type": "error",
          "ename": "AttributeError",
          "evalue": "'MessageFactory' object has no attribute 'GetPrototype'",
          "traceback": [
            "\u001b[0;31m---------------------------------------------------------------------------\u001b[0m",
            "\u001b[0;31mAttributeError\u001b[0m                            Traceback (most recent call last)",
            "\u001b[0;31mAttributeError\u001b[0m: 'MessageFactory' object has no attribute 'GetPrototype'"
          ]
        },
        {
          "output_type": "error",
          "ename": "AttributeError",
          "evalue": "'MessageFactory' object has no attribute 'GetPrototype'",
          "traceback": [
            "\u001b[0;31m---------------------------------------------------------------------------\u001b[0m",
            "\u001b[0;31mAttributeError\u001b[0m                            Traceback (most recent call last)",
            "\u001b[0;31mAttributeError\u001b[0m: 'MessageFactory' object has no attribute 'GetPrototype'"
          ]
        },
        {
          "output_type": "error",
          "ename": "AttributeError",
          "evalue": "'MessageFactory' object has no attribute 'GetPrototype'",
          "traceback": [
            "\u001b[0;31m---------------------------------------------------------------------------\u001b[0m",
            "\u001b[0;31mAttributeError\u001b[0m                            Traceback (most recent call last)",
            "\u001b[0;31mAttributeError\u001b[0m: 'MessageFactory' object has no attribute 'GetPrototype'"
          ]
        },
        {
          "output_type": "error",
          "ename": "AttributeError",
          "evalue": "'MessageFactory' object has no attribute 'GetPrototype'",
          "traceback": [
            "\u001b[0;31m---------------------------------------------------------------------------\u001b[0m",
            "\u001b[0;31mAttributeError\u001b[0m                            Traceback (most recent call last)",
            "\u001b[0;31mAttributeError\u001b[0m: 'MessageFactory' object has no attribute 'GetPrototype'"
          ]
        },
        {
          "output_type": "error",
          "ename": "AttributeError",
          "evalue": "'MessageFactory' object has no attribute 'GetPrototype'",
          "traceback": [
            "\u001b[0;31m---------------------------------------------------------------------------\u001b[0m",
            "\u001b[0;31mAttributeError\u001b[0m                            Traceback (most recent call last)",
            "\u001b[0;31mAttributeError\u001b[0m: 'MessageFactory' object has no attribute 'GetPrototype'"
          ]
        },
        {
          "output_type": "stream",
          "name": "stderr",
          "text": [
            "/usr/local/lib/python3.12/dist-packages/huggingface_hub/utils/_auth.py:94: UserWarning: \n",
            "The secret `HF_TOKEN` does not exist in your Colab secrets.\n",
            "To authenticate with the Hugging Face Hub, create a token in your settings tab (https://huggingface.co/settings/tokens), set it as secret in your Google Colab and restart your session.\n",
            "You will be able to reuse this secret in all of your notebooks.\n",
            "Please note that authentication is recommended but still optional to access public models or datasets.\n",
            "  warnings.warn(\n",
            "The image processor of type `Qwen2VLImageProcessor` is now loaded as a fast processor by default, even if the model checkpoint was saved with a slow processor. This is a breaking change and may produce slightly different outputs. To continue using the slow processor, instantiate this class with `use_fast=False`. Note that this behavior will be extended to all models in a future release.\n",
            "You have video processor config saved in `preprocessor.json` file which is deprecated. Video processor configs should be saved in their own `video_preprocessor.json` file. You can rename the file or load and save the processor back which renames it automatically. Loading from `preprocessor.json` will be removed in v5.0.\n"
          ]
        },
        {
          "output_type": "stream",
          "name": "stdout",
          "text": [
            "Testing fine-tuned Qwen2-VL model...\n",
            "Pre-disaster response: The image you provided appears to be a pre-disaster satellite image. The post-disaster image would show the same area after the disaster has occurred, which is not visible in the image you provided.\n",
            "\n",
            "==================================================\n",
            "\n",
            "Disaster assessment: **Building Damage Assessment Report**\n",
            "\n",
            "**Title:** Building Damage Assessment Report\n",
            "\n",
            "**Date:** [Insert Date]\n",
            "\n",
            "**Location:** [Insert Location]\n",
            "\n",
            "**Description:** The image provided is an aerial view of a coastal area, likely a mangrove forest, with a significant amount of water covering the ground. The water appears to be a mix of brown and green, indicating a mix of mud and vegetation.\n",
            "\n",
            "**Pre-Disaster Image Description:**\n",
            "- The image shows a coastal area with a mangrove forest on the left side and a muddy, brownish area on the right side.\n",
            "- The mangrove forest is dense and green, with a mix of trees and shrubs.\n",
            "- The muddy, brownish area is more extensive and appears to be a mix of mud and vegetation.\n",
            "\n",
            "**Post-Disaster Image Description:**\n",
            "- The image shows the same coastal area, but the water level has significantly increased.\n",
            "- The mangrove forest on the left side is still green and dense, but the muddy, brownish area on the right side is now flooded.\n",
            "- The water appears to be a mix of brown and green, indicating a significant increase in the amount of water covering the ground.\n",
            "\n",
            "**Building Damage Assessment:**\n",
            "1. **Mangrove Forest:**\n",
            "   - The mangrove forest on the left side appears to be intact, with no visible damage.\n",
            "   - The mangrove forest on the right side is also intact, with no visible damage.\n",
            "\n",
            "2. **Muddy, Brownish Area:**\n",
            "   - The muddy, brownish area on the right side is now flooded, indicating significant water damage.\n",
            "   - The water appears to be a mix of brown and green, indicating a significant increase in the amount of water covering the ground.\n",
            "\n",
            "**Building Damage Assessment:**\n",
            "1. **Mangrove Forest:**\n",
            "   - The mangrove forest on the left side appears to be intact, with no visible damage.\n",
            "   - The mangrove forest on the right side is also intact, with no visible damage.\n",
            "\n",
            "2. **Muddy, Brownish Area:**\n",
            "   - The muddy, brownish area on the right side is now flooded, indicating significant water damage.\n",
            "   - The water appears to be a mix of brown and green, indicating a significant increase in the amount of water covering the ground.\n",
            "\n",
            "**Conclusion:**\n",
            "The post-disaster image shows significant water damage to the mangrove forest and the muddy, brownish area on the right side. The mangrove forest on the left side appears to be intact, and there is no visible\n"
          ]
        }
      ]
    }
  ]
}